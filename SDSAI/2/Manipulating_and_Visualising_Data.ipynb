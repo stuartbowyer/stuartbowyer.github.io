{
  "cells": [
    {
      "cell_type": "markdown",
      "metadata": {},
      "source": [
        "<img src=\"https://teaching.bowyer.io/SDSAI/0/img/IMPERIAL_logo_RGB_Blue_2024.svg\" alt=\"Imperial Logo\" width=\"500\"/><br /><br />\n",
        "\n",
        "Manipulating and Visualising Data\n",
        "==============\n",
        "### SURG70098 - Surgical Data Science and AI\n",
        "### Stuart Bowyer"
      ]
    },
    {
      "cell_type": "markdown",
      "metadata": {
        "slideshow": {
          "slide_type": "slide"
        }
      },
      "source": [
        "## Intended Learning Outcomes\n",
        "1.  Understand the primary methods for manipulating tabular data in python and why they are important for surgical data science\n",
        "1.  Be able to perform basic data manipulation tasks using `pandas` and Regular Expressions, and know where to look for more information\n",
        "1.  Plot data in python to address analytical questions using `matplotlib`\n"
      ]
    },
    {
      "cell_type": "markdown",
      "metadata": {
        "slideshow": {
          "slide_type": "slide"
        }
      },
      "source": [
        "## Session Outline\n",
        "1.  [Data Manipulation with pandas](#pandas)\n",
        "1.  [Data Visualisation with matplotlib](#matplotlib)\n",
        "1.  [String Manipulation with Regular Expressions](#regular_expressions)"
      ]
    },
    {
      "cell_type": "markdown",
      "metadata": {
        "slideshow": {
          "slide_type": "slide"
        }
      },
      "source": [
        "# pandas\n",
        "*   Much of the data science and AI methods we will cover in this course are based on analysing large amounts of data\n",
        "*   `pandas` is a Python package that is very powerful and widely used. It allows you to read, manipulate, and write data efficiently and effectively\n",
        "    *   https://pandas.pydata.org/\n",
        "    *   Provides data structures to hold your data that make it easy to access, organise, and modify your data\n",
        "    *   It is optimised for large data sets allowing you to work quickly\n",
        "    *   It links with other libraries for visualising and learning from your data\n",
        "    *   Has a wealth of online resources to support your use"
      ]
    },
    {
      "cell_type": "markdown",
      "metadata": {
        "slideshow": {
          "slide_type": "slide"
        }
      },
      "source": [
        "## Installation and Setup\n",
        "*   You can install pandas into your Colab runtime with  \n",
        "```%pip install pandas```\n",
        "*   Import pandas with  \n",
        "```import pandas as pd```\n",
        "*   We typically import it as pd because we will be calling it very often"
      ]
    },
    {
      "cell_type": "code",
      "execution_count": 2,
      "metadata": {
        "tags": [
          "remove-output"
        ]
      },
      "outputs": [
        {
          "name": "stdout",
          "output_type": "stream",
          "text": [
            "Requirement already satisfied: pandas in /Users/stuartbowyer/ICL/teaching.bowyer.github.io/venv/lib/python3.12/site-packages (2.2.2)\n",
            "Requirement already satisfied: numpy>=1.26.0 in /Users/stuartbowyer/ICL/teaching.bowyer.github.io/venv/lib/python3.12/site-packages (from pandas) (2.1.1)\n",
            "Requirement already satisfied: python-dateutil>=2.8.2 in /Users/stuartbowyer/ICL/teaching.bowyer.github.io/venv/lib/python3.12/site-packages (from pandas) (2.9.0.post0)\n",
            "Requirement already satisfied: pytz>=2020.1 in /Users/stuartbowyer/ICL/teaching.bowyer.github.io/venv/lib/python3.12/site-packages (from pandas) (2024.2)\n",
            "Requirement already satisfied: tzdata>=2022.7 in /Users/stuartbowyer/ICL/teaching.bowyer.github.io/venv/lib/python3.12/site-packages (from pandas) (2024.1)\n",
            "Requirement already satisfied: six>=1.5 in /Users/stuartbowyer/ICL/teaching.bowyer.github.io/venv/lib/python3.12/site-packages (from python-dateutil>=2.8.2->pandas) (1.16.0)\n",
            "Note: you may need to restart the kernel to use updated packages.\n"
          ]
        }
      ],
      "source": [
        "%pip install pandas\n",
        "\n",
        "import pandas as pd"
      ]
    },
    {
      "cell_type": "markdown",
      "metadata": {
        "slideshow": {
          "slide_type": "slide"
        }
      },
      "source": [
        "## Data Frames - Tabular Data\n",
        "*   Tabular (2-dimensional) data are the foundation of most analyses and methods used in data science\n",
        "*   In pandas (and many other data analytics packages/platforms) data tables are called a `DataFrame`\n",
        "\n",
        "![pandas data frame](https://pandas.pydata.org/docs/_images/01_table_dataframe.svg)\n",
        "<small><p>Copyright 2024 <a href=https://pandas.pydata.org/docs>pandas</a> - <a href=https://opensource.org/license/bsd-3-clause>BSD 3-Clause License</a></p></small>"
      ]
    },
    {
      "cell_type": "markdown",
      "metadata": {
        "slideshow": {
          "slide_type": "slide"
        }
      },
      "source": [
        "### DataFrame Structure\n",
        "Here is a sample DataFrame, `df`\n",
        "*   The DataFrame has four columns\n",
        "*   The columns are named with a string value (`A`, `B`, `C` and `D`)\n",
        "*   In pandas, each column is called a 'series'\n",
        "*   The DataFrame has 5 rows (note they are indexed from zero)\n",
        "*   The columns of the DataFrame each can have a different data type (`float`, `float`, `string`, `datetime`)\n",
        "*   However, all the values in each column must be the same type\n",
        "*   This DataFrame is small, but they can hold GB of data"
      ]
    },
    {
      "cell_type": "code",
      "execution_count": 3,
      "metadata": {},
      "outputs": [
        {
          "data": {
            "text/html": [
              "<div>\n",
              "<style scoped>\n",
              "    .dataframe tbody tr th:only-of-type {\n",
              "        vertical-align: middle;\n",
              "    }\n",
              "\n",
              "    .dataframe tbody tr th {\n",
              "        vertical-align: top;\n",
              "    }\n",
              "\n",
              "    .dataframe thead th {\n",
              "        text-align: right;\n",
              "    }\n",
              "</style>\n",
              "<table border=\"1\" class=\"dataframe\">\n",
              "  <thead>\n",
              "    <tr style=\"text-align: right;\">\n",
              "      <th></th>\n",
              "      <th>A</th>\n",
              "      <th>B</th>\n",
              "      <th>C</th>\n",
              "      <th>D</th>\n",
              "    </tr>\n",
              "  </thead>\n",
              "  <tbody>\n",
              "    <tr>\n",
              "      <th>0</th>\n",
              "      <td>0.0</td>\n",
              "      <td>0.0</td>\n",
              "      <td>foo1</td>\n",
              "      <td>2009-01-01</td>\n",
              "    </tr>\n",
              "    <tr>\n",
              "      <th>1</th>\n",
              "      <td>1.0</td>\n",
              "      <td>1.0</td>\n",
              "      <td>foo2</td>\n",
              "      <td>2009-01-02</td>\n",
              "    </tr>\n",
              "    <tr>\n",
              "      <th>2</th>\n",
              "      <td>2.0</td>\n",
              "      <td>0.0</td>\n",
              "      <td>foo3</td>\n",
              "      <td>2009-01-05</td>\n",
              "    </tr>\n",
              "    <tr>\n",
              "      <th>3</th>\n",
              "      <td>3.0</td>\n",
              "      <td>1.0</td>\n",
              "      <td>foo4</td>\n",
              "      <td>2009-01-06</td>\n",
              "    </tr>\n",
              "    <tr>\n",
              "      <th>4</th>\n",
              "      <td>4.0</td>\n",
              "      <td>0.0</td>\n",
              "      <td>foo5</td>\n",
              "      <td>2009-01-07</td>\n",
              "    </tr>\n",
              "  </tbody>\n",
              "</table>\n",
              "</div>"
            ],
            "text/plain": [
              "     A    B     C           D\n",
              "0  0.0  0.0  foo1  2009-01-01\n",
              "1  1.0  1.0  foo2  2009-01-02\n",
              "2  2.0  0.0  foo3  2009-01-05\n",
              "3  3.0  1.0  foo4  2009-01-06\n",
              "4  4.0  0.0  foo5  2009-01-07"
            ]
          },
          "execution_count": 3,
          "metadata": {},
          "output_type": "execute_result"
        }
      ],
      "source": [
        "# Load an example dataframe\n",
        "df = pd.read_csv(\"https://teaching.bowyer.io/SDSAI/2/data/test_df.csv\")\n",
        "df"
      ]
    },
    {
      "cell_type": "markdown",
      "metadata": {
        "slideshow": {
          "slide_type": "slide"
        }
      },
      "source": [
        "### DataFrame Properties\n",
        "*   There are many functions that allow you to understand the properties of a dataframe.\n",
        "*   A full list is available in the documentation: https://pandas.pydata.org/pandas-docs/stable/reference/frame.html"
      ]
    },
    {
      "cell_type": "code",
      "execution_count": 4,
      "metadata": {},
      "outputs": [
        {
          "name": "stdout",
          "output_type": "stream",
          "text": [
            "(5, 4)\n",
            "5\n",
            "4\n",
            "A    float64\n",
            "B    float64\n",
            "C     object\n",
            "D     object\n",
            "dtype: object\n",
            "['A', 'B', 'C', 'D']\n",
            "[0, 1, 2, 3, 4]\n"
          ]
        }
      ],
      "source": [
        "print(df.shape)             # Shape (#rows, #columns)\n",
        "print(df.shape[0])          # Number of rows\n",
        "print(df.shape[1])          # Number of columns\n",
        "print(df.dtypes)            # The types of data in each column\n",
        "print(df.columns.tolist())  # The names of the columns\n",
        "print(df.index.tolist())    # The names of the rows"
      ]
    },
    {
      "cell_type": "markdown",
      "metadata": {
        "slideshow": {
          "slide_type": "slide"
        }
      },
      "source": [
        "### DataFrame Contents\n",
        "#### Column (Series) Access\n",
        "*   Elements within a dataframe can be accessed similarly to those in a list\n",
        "*   Columns (called 'series') can be accessed with the square brackets\n",
        "*   If you input a list of columns, a section of the dataframe will be returned"
      ]
    },
    {
      "cell_type": "code",
      "execution_count": 5,
      "metadata": {},
      "outputs": [
        {
          "data": {
            "text/plain": [
              "0    foo1\n",
              "1    foo2\n",
              "2    foo3\n",
              "3    foo4\n",
              "4    foo5\n",
              "Name: C, dtype: object"
            ]
          },
          "execution_count": 5,
          "metadata": {},
          "output_type": "execute_result"
        }
      ],
      "source": [
        "df['C']          # Access column (series) by name. e.g. column C"
      ]
    },
    {
      "cell_type": "code",
      "execution_count": 6,
      "metadata": {},
      "outputs": [
        {
          "data": {
            "text/html": [
              "<div>\n",
              "<style scoped>\n",
              "    .dataframe tbody tr th:only-of-type {\n",
              "        vertical-align: middle;\n",
              "    }\n",
              "\n",
              "    .dataframe tbody tr th {\n",
              "        vertical-align: top;\n",
              "    }\n",
              "\n",
              "    .dataframe thead th {\n",
              "        text-align: right;\n",
              "    }\n",
              "</style>\n",
              "<table border=\"1\" class=\"dataframe\">\n",
              "  <thead>\n",
              "    <tr style=\"text-align: right;\">\n",
              "      <th></th>\n",
              "      <th>C</th>\n",
              "      <th>A</th>\n",
              "    </tr>\n",
              "  </thead>\n",
              "  <tbody>\n",
              "    <tr>\n",
              "      <th>0</th>\n",
              "      <td>foo1</td>\n",
              "      <td>0.0</td>\n",
              "    </tr>\n",
              "    <tr>\n",
              "      <th>1</th>\n",
              "      <td>foo2</td>\n",
              "      <td>1.0</td>\n",
              "    </tr>\n",
              "    <tr>\n",
              "      <th>2</th>\n",
              "      <td>foo3</td>\n",
              "      <td>2.0</td>\n",
              "    </tr>\n",
              "    <tr>\n",
              "      <th>3</th>\n",
              "      <td>foo4</td>\n",
              "      <td>3.0</td>\n",
              "    </tr>\n",
              "    <tr>\n",
              "      <th>4</th>\n",
              "      <td>foo5</td>\n",
              "      <td>4.0</td>\n",
              "    </tr>\n",
              "  </tbody>\n",
              "</table>\n",
              "</div>"
            ],
            "text/plain": [
              "      C    A\n",
              "0  foo1  0.0\n",
              "1  foo2  1.0\n",
              "2  foo3  2.0\n",
              "3  foo4  3.0\n",
              "4  foo5  4.0"
            ]
          },
          "execution_count": 6,
          "metadata": {},
          "output_type": "execute_result"
        }
      ],
      "source": [
        "df[['C','A']]    # Access multiple columns (series) by name"
      ]
    },
    {
      "cell_type": "markdown",
      "metadata": {
        "slideshow": {
          "slide_type": "slide"
        }
      },
      "source": [
        "#### Row and Element Access\n",
        "*   Individual rows can be accessed with the `.loc` method\n",
        "*   Individual elements can be accessed with the `.at` method\n",
        "    *   Note here that you are using the row and column labels\n",
        "*   Individual elements can be accessed with integer indices with the `.iat` method"
      ]
    },
    {
      "cell_type": "code",
      "execution_count": 7,
      "metadata": {},
      "outputs": [
        {
          "name": "stdout",
          "output_type": "stream",
          "text": [
            "loc:\n",
            "A           1.0\n",
            "B           1.0\n",
            "C          foo2\n",
            "D    2009-01-02\n",
            "Name: 1, dtype: object\n",
            "\n",
            "at: foo2\n",
            "\n",
            "iat: 2009-01-02\n"
          ]
        }
      ],
      "source": [
        "print('loc:')\n",
        "print(df.loc[1])                # Access row by index e.g. row 1\n",
        "\n",
        "print('\\nat:', df.at[1,'C'])    # Access single element by row and column values\n",
        "\n",
        "print('\\niat:', df.iat[1,3])    # Access single element by row and column indices"
      ]
    },
    {
      "cell_type": "markdown",
      "metadata": {
        "slideshow": {
          "slide_type": "slide"
        }
      },
      "source": [
        "#### Modification\n",
        "*   Similarly to lists, you can use the square bracket `[]` methods to modify the contents of a dataframe"
      ]
    },
    {
      "cell_type": "code",
      "execution_count": 8,
      "metadata": {},
      "outputs": [
        {
          "name": "stdout",
          "output_type": "stream",
          "text": [
            "modified:\n"
          ]
        },
        {
          "data": {
            "text/html": [
              "<div>\n",
              "<style scoped>\n",
              "    .dataframe tbody tr th:only-of-type {\n",
              "        vertical-align: middle;\n",
              "    }\n",
              "\n",
              "    .dataframe tbody tr th {\n",
              "        vertical-align: top;\n",
              "    }\n",
              "\n",
              "    .dataframe thead th {\n",
              "        text-align: right;\n",
              "    }\n",
              "</style>\n",
              "<table border=\"1\" class=\"dataframe\">\n",
              "  <thead>\n",
              "    <tr style=\"text-align: right;\">\n",
              "      <th></th>\n",
              "      <th>A</th>\n",
              "      <th>B</th>\n",
              "      <th>C</th>\n",
              "      <th>D</th>\n",
              "    </tr>\n",
              "  </thead>\n",
              "  <tbody>\n",
              "    <tr>\n",
              "      <th>0</th>\n",
              "      <td>0.0</td>\n",
              "      <td>0.1</td>\n",
              "      <td>foo1</td>\n",
              "      <td>2009-01-01</td>\n",
              "    </tr>\n",
              "    <tr>\n",
              "      <th>1</th>\n",
              "      <td>1.0</td>\n",
              "      <td>0.2</td>\n",
              "      <td>new-element</td>\n",
              "      <td>2009-01-02</td>\n",
              "    </tr>\n",
              "    <tr>\n",
              "      <th>2</th>\n",
              "      <td>2.0</td>\n",
              "      <td>0.3</td>\n",
              "      <td>foo3</td>\n",
              "      <td>2009-01-05</td>\n",
              "    </tr>\n",
              "    <tr>\n",
              "      <th>3</th>\n",
              "      <td>3.0</td>\n",
              "      <td>0.4</td>\n",
              "      <td>foo4</td>\n",
              "      <td>2009-01-06</td>\n",
              "    </tr>\n",
              "    <tr>\n",
              "      <th>4</th>\n",
              "      <td>10.0</td>\n",
              "      <td>-1.0</td>\n",
              "      <td>new-row</td>\n",
              "      <td>2020-01-01</td>\n",
              "    </tr>\n",
              "  </tbody>\n",
              "</table>\n",
              "</div>"
            ],
            "text/plain": [
              "      A    B            C           D\n",
              "0   0.0  0.1         foo1  2009-01-01\n",
              "1   1.0  0.2  new-element  2009-01-02\n",
              "2   2.0  0.3         foo3  2009-01-05\n",
              "3   3.0  0.4         foo4  2009-01-06\n",
              "4  10.0 -1.0      new-row  2020-01-01"
            ]
          },
          "execution_count": 8,
          "metadata": {},
          "output_type": "execute_result"
        }
      ],
      "source": [
        "df['B'] = [0.1,0.2,0.3,0.4,0.5]                 # Replace a column\n",
        "df.loc[4] = [10.0,-1.0,\"new-row\",'2020-01-01']  # Replace a row\n",
        "df.at[1,'C'] = \"new-element\"                    # Replace a single element\n",
        "\n",
        "print('modified:')\n",
        "df"
      ]
    },
    {
      "cell_type": "markdown",
      "metadata": {
        "slideshow": {
          "slide_type": "slide"
        }
      },
      "source": [
        "#### Useful Methods\n",
        "*   You should familiarise yourself with the dataframe methods in pandas - https://pandas.pydata.org/docs/reference/frame.html\n",
        "*   Here are some that you will find useful:"
      ]
    },
    {
      "cell_type": "code",
      "execution_count": 9,
      "metadata": {
        "tags": [
          "remove-output"
        ]
      },
      "outputs": [
        {
          "name": "stdout",
          "output_type": "stream",
          "text": [
            "<class 'pandas.core.frame.DataFrame'>\n",
            "RangeIndex: 5 entries, 0 to 4\n",
            "Data columns (total 4 columns):\n",
            " #   Column  Non-Null Count  Dtype  \n",
            "---  ------  --------------  -----  \n",
            " 0   A       5 non-null      float64\n",
            " 1   B       5 non-null      float64\n",
            " 2   C       5 non-null      object \n",
            " 3   D       5 non-null      object \n",
            "dtypes: float64(2), object(2)\n",
            "memory usage: 292.0+ bytes\n"
          ]
        },
        {
          "data": {
            "text/html": [
              "<div>\n",
              "<style scoped>\n",
              "    .dataframe tbody tr th:only-of-type {\n",
              "        vertical-align: middle;\n",
              "    }\n",
              "\n",
              "    .dataframe tbody tr th {\n",
              "        vertical-align: top;\n",
              "    }\n",
              "\n",
              "    .dataframe thead th {\n",
              "        text-align: right;\n",
              "    }\n",
              "</style>\n",
              "<table border=\"1\" class=\"dataframe\">\n",
              "  <thead>\n",
              "    <tr style=\"text-align: right;\">\n",
              "      <th></th>\n",
              "      <th>A</th>\n",
              "      <th>B</th>\n",
              "      <th>C</th>\n",
              "      <th>D</th>\n",
              "    </tr>\n",
              "  </thead>\n",
              "  <tbody>\n",
              "    <tr>\n",
              "      <th>4</th>\n",
              "      <td>10.0</td>\n",
              "      <td>-1.0</td>\n",
              "      <td>new-row</td>\n",
              "      <td>2020-01-01</td>\n",
              "    </tr>\n",
              "    <tr>\n",
              "      <th>0</th>\n",
              "      <td>0.0</td>\n",
              "      <td>0.1</td>\n",
              "      <td>foo1</td>\n",
              "      <td>2009-01-01</td>\n",
              "    </tr>\n",
              "    <tr>\n",
              "      <th>1</th>\n",
              "      <td>1.0</td>\n",
              "      <td>0.2</td>\n",
              "      <td>new-element</td>\n",
              "      <td>2009-01-02</td>\n",
              "    </tr>\n",
              "    <tr>\n",
              "      <th>2</th>\n",
              "      <td>2.0</td>\n",
              "      <td>0.3</td>\n",
              "      <td>foo3</td>\n",
              "      <td>2009-01-05</td>\n",
              "    </tr>\n",
              "    <tr>\n",
              "      <th>3</th>\n",
              "      <td>3.0</td>\n",
              "      <td>0.4</td>\n",
              "      <td>foo4</td>\n",
              "      <td>2009-01-06</td>\n",
              "    </tr>\n",
              "  </tbody>\n",
              "</table>\n",
              "</div>"
            ],
            "text/plain": [
              "      A    B            C           D\n",
              "4  10.0 -1.0      new-row  2020-01-01\n",
              "0   0.0  0.1         foo1  2009-01-01\n",
              "1   1.0  0.2  new-element  2009-01-02\n",
              "2   2.0  0.3         foo3  2009-01-05\n",
              "3   3.0  0.4         foo4  2009-01-06"
            ]
          },
          "execution_count": 9,
          "metadata": {},
          "output_type": "execute_result"
        }
      ],
      "source": [
        "# Get only to top few rows of a dataframe (useful for debugging)\n",
        "df.head()\n",
        "\n",
        "# Get basic info about each column such as the number of missing values and data types\n",
        "df.info()\n",
        "\n",
        "# Print a selection of summary statistics for each column (more on this later)\n",
        "df.describe()\n",
        "\n",
        "# Sort the dataframe by a given column\n",
        "df.sort_values('B')"
      ]
    },
    {
      "cell_type": "markdown",
      "metadata": {
        "slideshow": {
          "slide_type": "slide"
        }
      },
      "source": [
        "#### Creating New Columns\n",
        "*   You will often want to add new columns to a dataframe to contain derived or modified data\n",
        "*   New columns can be created by simply assigning to a column that does not already exist\n",
        "*   For example, here we add a new column called 'E' that contains the value of 'A' + 10\n",
        "    *   This is the same as adding 10 to the value of every value individually\n",
        "    *   This is often called 'elementwise'\n",
        "    *   Arithmetic, comparison and logical operators also work here"
      ]
    },
    {
      "cell_type": "code",
      "execution_count": 10,
      "metadata": {},
      "outputs": [
        {
          "data": {
            "text/html": [
              "<div>\n",
              "<style scoped>\n",
              "    .dataframe tbody tr th:only-of-type {\n",
              "        vertical-align: middle;\n",
              "    }\n",
              "\n",
              "    .dataframe tbody tr th {\n",
              "        vertical-align: top;\n",
              "    }\n",
              "\n",
              "    .dataframe thead th {\n",
              "        text-align: right;\n",
              "    }\n",
              "</style>\n",
              "<table border=\"1\" class=\"dataframe\">\n",
              "  <thead>\n",
              "    <tr style=\"text-align: right;\">\n",
              "      <th></th>\n",
              "      <th>A</th>\n",
              "      <th>B</th>\n",
              "      <th>C</th>\n",
              "      <th>D</th>\n",
              "      <th>E</th>\n",
              "    </tr>\n",
              "  </thead>\n",
              "  <tbody>\n",
              "    <tr>\n",
              "      <th>0</th>\n",
              "      <td>0.0</td>\n",
              "      <td>0.1</td>\n",
              "      <td>foo1</td>\n",
              "      <td>2009-01-01</td>\n",
              "      <td>10.0</td>\n",
              "    </tr>\n",
              "    <tr>\n",
              "      <th>1</th>\n",
              "      <td>1.0</td>\n",
              "      <td>0.2</td>\n",
              "      <td>new-element</td>\n",
              "      <td>2009-01-02</td>\n",
              "      <td>11.0</td>\n",
              "    </tr>\n",
              "    <tr>\n",
              "      <th>2</th>\n",
              "      <td>2.0</td>\n",
              "      <td>0.3</td>\n",
              "      <td>foo3</td>\n",
              "      <td>2009-01-05</td>\n",
              "      <td>12.0</td>\n",
              "    </tr>\n",
              "    <tr>\n",
              "      <th>3</th>\n",
              "      <td>3.0</td>\n",
              "      <td>0.4</td>\n",
              "      <td>foo4</td>\n",
              "      <td>2009-01-06</td>\n",
              "      <td>13.0</td>\n",
              "    </tr>\n",
              "    <tr>\n",
              "      <th>4</th>\n",
              "      <td>10.0</td>\n",
              "      <td>-1.0</td>\n",
              "      <td>new-row</td>\n",
              "      <td>2020-01-01</td>\n",
              "      <td>20.0</td>\n",
              "    </tr>\n",
              "  </tbody>\n",
              "</table>\n",
              "</div>"
            ],
            "text/plain": [
              "      A    B            C           D     E\n",
              "0   0.0  0.1         foo1  2009-01-01  10.0\n",
              "1   1.0  0.2  new-element  2009-01-02  11.0\n",
              "2   2.0  0.3         foo3  2009-01-05  12.0\n",
              "3   3.0  0.4         foo4  2009-01-06  13.0\n",
              "4  10.0 -1.0      new-row  2020-01-01  20.0"
            ]
          },
          "execution_count": 10,
          "metadata": {},
          "output_type": "execute_result"
        }
      ],
      "source": [
        "df['E'] = df['A'] + 10\n",
        "df"
      ]
    },
    {
      "cell_type": "markdown",
      "metadata": {
        "slideshow": {
          "slide_type": "slide"
        }
      },
      "source": [
        "#### Combining New Columns\n",
        "*   In the previous example we added a constant value to a column\n",
        "*   You can also apply operations row-by-row across multiple columns\n",
        "*   For example, here we create a new column 'F' that shows if column 'A' is greater than 'B'"
      ]
    },
    {
      "cell_type": "code",
      "execution_count": 11,
      "metadata": {},
      "outputs": [
        {
          "data": {
            "text/html": [
              "<div>\n",
              "<style scoped>\n",
              "    .dataframe tbody tr th:only-of-type {\n",
              "        vertical-align: middle;\n",
              "    }\n",
              "\n",
              "    .dataframe tbody tr th {\n",
              "        vertical-align: top;\n",
              "    }\n",
              "\n",
              "    .dataframe thead th {\n",
              "        text-align: right;\n",
              "    }\n",
              "</style>\n",
              "<table border=\"1\" class=\"dataframe\">\n",
              "  <thead>\n",
              "    <tr style=\"text-align: right;\">\n",
              "      <th></th>\n",
              "      <th>A</th>\n",
              "      <th>B</th>\n",
              "      <th>C</th>\n",
              "      <th>D</th>\n",
              "      <th>E</th>\n",
              "      <th>F</th>\n",
              "    </tr>\n",
              "  </thead>\n",
              "  <tbody>\n",
              "    <tr>\n",
              "      <th>0</th>\n",
              "      <td>0.0</td>\n",
              "      <td>0.1</td>\n",
              "      <td>foo1</td>\n",
              "      <td>2009-01-01</td>\n",
              "      <td>10.0</td>\n",
              "      <td>False</td>\n",
              "    </tr>\n",
              "    <tr>\n",
              "      <th>1</th>\n",
              "      <td>1.0</td>\n",
              "      <td>0.2</td>\n",
              "      <td>new-element</td>\n",
              "      <td>2009-01-02</td>\n",
              "      <td>11.0</td>\n",
              "      <td>True</td>\n",
              "    </tr>\n",
              "    <tr>\n",
              "      <th>2</th>\n",
              "      <td>2.0</td>\n",
              "      <td>0.3</td>\n",
              "      <td>foo3</td>\n",
              "      <td>2009-01-05</td>\n",
              "      <td>12.0</td>\n",
              "      <td>True</td>\n",
              "    </tr>\n",
              "    <tr>\n",
              "      <th>3</th>\n",
              "      <td>3.0</td>\n",
              "      <td>0.4</td>\n",
              "      <td>foo4</td>\n",
              "      <td>2009-01-06</td>\n",
              "      <td>13.0</td>\n",
              "      <td>True</td>\n",
              "    </tr>\n",
              "    <tr>\n",
              "      <th>4</th>\n",
              "      <td>10.0</td>\n",
              "      <td>-1.0</td>\n",
              "      <td>new-row</td>\n",
              "      <td>2020-01-01</td>\n",
              "      <td>20.0</td>\n",
              "      <td>True</td>\n",
              "    </tr>\n",
              "  </tbody>\n",
              "</table>\n",
              "</div>"
            ],
            "text/plain": [
              "      A    B            C           D     E      F\n",
              "0   0.0  0.1         foo1  2009-01-01  10.0  False\n",
              "1   1.0  0.2  new-element  2009-01-02  11.0   True\n",
              "2   2.0  0.3         foo3  2009-01-05  12.0   True\n",
              "3   3.0  0.4         foo4  2009-01-06  13.0   True\n",
              "4  10.0 -1.0      new-row  2020-01-01  20.0   True"
            ]
          },
          "execution_count": 11,
          "metadata": {},
          "output_type": "execute_result"
        }
      ],
      "source": [
        "df['F'] = df['A'] > df['B']\n",
        "df"
      ]
    },
    {
      "cell_type": "markdown",
      "metadata": {
        "slideshow": {
          "slide_type": "slide"
        }
      },
      "source": [
        "#### Filtering Data\n",
        "*   The pandas access methods described previously make it straight forward to filter data\n",
        "*   You will often have datasets with many observations where you are only interested in a subset of them, and filtering allows you to resolve this\n",
        "*   For example, you have data from all patients; however, you are only interested in those who have been treated by a particular surgeon\n",
        "*   This method takes advantage of the fact that the rows of a data frame can be 'selected' by inputting a list of bool values"
      ]
    },
    {
      "cell_type": "code",
      "execution_count": 12,
      "metadata": {},
      "outputs": [
        {
          "data": {
            "text/html": [
              "<div>\n",
              "<style scoped>\n",
              "    .dataframe tbody tr th:only-of-type {\n",
              "        vertical-align: middle;\n",
              "    }\n",
              "\n",
              "    .dataframe tbody tr th {\n",
              "        vertical-align: top;\n",
              "    }\n",
              "\n",
              "    .dataframe thead th {\n",
              "        text-align: right;\n",
              "    }\n",
              "</style>\n",
              "<table border=\"1\" class=\"dataframe\">\n",
              "  <thead>\n",
              "    <tr style=\"text-align: right;\">\n",
              "      <th></th>\n",
              "      <th>A</th>\n",
              "      <th>B</th>\n",
              "      <th>C</th>\n",
              "      <th>D</th>\n",
              "      <th>E</th>\n",
              "      <th>F</th>\n",
              "    </tr>\n",
              "  </thead>\n",
              "  <tbody>\n",
              "    <tr>\n",
              "      <th>0</th>\n",
              "      <td>0.0</td>\n",
              "      <td>0.1</td>\n",
              "      <td>foo1</td>\n",
              "      <td>2009-01-01</td>\n",
              "      <td>10.0</td>\n",
              "      <td>False</td>\n",
              "    </tr>\n",
              "    <tr>\n",
              "      <th>4</th>\n",
              "      <td>10.0</td>\n",
              "      <td>-1.0</td>\n",
              "      <td>new-row</td>\n",
              "      <td>2020-01-01</td>\n",
              "      <td>20.0</td>\n",
              "      <td>True</td>\n",
              "    </tr>\n",
              "  </tbody>\n",
              "</table>\n",
              "</div>"
            ],
            "text/plain": [
              "      A    B        C           D     E      F\n",
              "0   0.0  0.1     foo1  2009-01-01  10.0  False\n",
              "4  10.0 -1.0  new-row  2020-01-01  20.0   True"
            ]
          },
          "execution_count": 12,
          "metadata": {},
          "output_type": "execute_result"
        }
      ],
      "source": [
        "# If we wanted row 0 and row 4\n",
        "df[[True,False,False,False,True]]"
      ]
    },
    {
      "cell_type": "markdown",
      "metadata": {},
      "source": [
        "*   Therefore, you can select rows by using any logical expression based on the other columns of a data frame\n",
        "*   For example, if we wanted to filter the rows where A was greater than B, we can input the expression into square brackets"
      ]
    },
    {
      "cell_type": "code",
      "execution_count": 13,
      "metadata": {},
      "outputs": [
        {
          "data": {
            "text/html": [
              "<div>\n",
              "<style scoped>\n",
              "    .dataframe tbody tr th:only-of-type {\n",
              "        vertical-align: middle;\n",
              "    }\n",
              "\n",
              "    .dataframe tbody tr th {\n",
              "        vertical-align: top;\n",
              "    }\n",
              "\n",
              "    .dataframe thead th {\n",
              "        text-align: right;\n",
              "    }\n",
              "</style>\n",
              "<table border=\"1\" class=\"dataframe\">\n",
              "  <thead>\n",
              "    <tr style=\"text-align: right;\">\n",
              "      <th></th>\n",
              "      <th>A</th>\n",
              "      <th>B</th>\n",
              "      <th>C</th>\n",
              "      <th>D</th>\n",
              "      <th>E</th>\n",
              "      <th>F</th>\n",
              "    </tr>\n",
              "  </thead>\n",
              "  <tbody>\n",
              "    <tr>\n",
              "      <th>1</th>\n",
              "      <td>1.0</td>\n",
              "      <td>0.2</td>\n",
              "      <td>new-element</td>\n",
              "      <td>2009-01-02</td>\n",
              "      <td>11.0</td>\n",
              "      <td>True</td>\n",
              "    </tr>\n",
              "    <tr>\n",
              "      <th>2</th>\n",
              "      <td>2.0</td>\n",
              "      <td>0.3</td>\n",
              "      <td>foo3</td>\n",
              "      <td>2009-01-05</td>\n",
              "      <td>12.0</td>\n",
              "      <td>True</td>\n",
              "    </tr>\n",
              "    <tr>\n",
              "      <th>3</th>\n",
              "      <td>3.0</td>\n",
              "      <td>0.4</td>\n",
              "      <td>foo4</td>\n",
              "      <td>2009-01-06</td>\n",
              "      <td>13.0</td>\n",
              "      <td>True</td>\n",
              "    </tr>\n",
              "    <tr>\n",
              "      <th>4</th>\n",
              "      <td>10.0</td>\n",
              "      <td>-1.0</td>\n",
              "      <td>new-row</td>\n",
              "      <td>2020-01-01</td>\n",
              "      <td>20.0</td>\n",
              "      <td>True</td>\n",
              "    </tr>\n",
              "  </tbody>\n",
              "</table>\n",
              "</div>"
            ],
            "text/plain": [
              "      A    B            C           D     E     F\n",
              "1   1.0  0.2  new-element  2009-01-02  11.0  True\n",
              "2   2.0  0.3         foo3  2009-01-05  12.0  True\n",
              "3   3.0  0.4         foo4  2009-01-06  13.0  True\n",
              "4  10.0 -1.0      new-row  2020-01-01  20.0  True"
            ]
          },
          "execution_count": 13,
          "metadata": {},
          "output_type": "execute_result"
        }
      ],
      "source": [
        "df[df['A'] > df['B']]"
      ]
    },
    {
      "cell_type": "markdown",
      "metadata": {
        "slideshow": {
          "slide_type": "slide"
        }
      },
      "source": [
        "### ❓ Data Frames Quick Check\n",
        "For the data frame below, what would the following return?\n",
        "1. ```df['E']```\n",
        "1. ```df.loc[2]```\n",
        "1. ```df.at[4,'B']```\n",
        "1. ```df.iat[2,4]```"
      ]
    },
    {
      "cell_type": "code",
      "execution_count": 27,
      "metadata": {},
      "outputs": [
        {
          "data": {
            "text/html": [
              "<div>\n",
              "<style scoped>\n",
              "    .dataframe tbody tr th:only-of-type {\n",
              "        vertical-align: middle;\n",
              "    }\n",
              "\n",
              "    .dataframe tbody tr th {\n",
              "        vertical-align: top;\n",
              "    }\n",
              "\n",
              "    .dataframe thead th {\n",
              "        text-align: right;\n",
              "    }\n",
              "</style>\n",
              "<table border=\"1\" class=\"dataframe\">\n",
              "  <thead>\n",
              "    <tr style=\"text-align: right;\">\n",
              "      <th></th>\n",
              "      <th>A</th>\n",
              "      <th>B</th>\n",
              "      <th>C</th>\n",
              "      <th>D</th>\n",
              "      <th>E</th>\n",
              "      <th>F</th>\n",
              "    </tr>\n",
              "  </thead>\n",
              "  <tbody>\n",
              "    <tr>\n",
              "      <th>0</th>\n",
              "      <td>0.0</td>\n",
              "      <td>0.1</td>\n",
              "      <td>foo1</td>\n",
              "      <td>2009-01-01</td>\n",
              "      <td>10.0</td>\n",
              "      <td>False</td>\n",
              "    </tr>\n",
              "    <tr>\n",
              "      <th>1</th>\n",
              "      <td>1.0</td>\n",
              "      <td>0.2</td>\n",
              "      <td>new-element</td>\n",
              "      <td>2009-01-02</td>\n",
              "      <td>11.0</td>\n",
              "      <td>True</td>\n",
              "    </tr>\n",
              "    <tr>\n",
              "      <th>2</th>\n",
              "      <td>2.0</td>\n",
              "      <td>0.3</td>\n",
              "      <td>foo3</td>\n",
              "      <td>2009-01-05</td>\n",
              "      <td>12.0</td>\n",
              "      <td>True</td>\n",
              "    </tr>\n",
              "    <tr>\n",
              "      <th>3</th>\n",
              "      <td>3.0</td>\n",
              "      <td>0.4</td>\n",
              "      <td>foo4</td>\n",
              "      <td>2009-01-06</td>\n",
              "      <td>13.0</td>\n",
              "      <td>True</td>\n",
              "    </tr>\n",
              "    <tr>\n",
              "      <th>4</th>\n",
              "      <td>10.0</td>\n",
              "      <td>-1.0</td>\n",
              "      <td>new-row</td>\n",
              "      <td>2020-01-01</td>\n",
              "      <td>20.0</td>\n",
              "      <td>True</td>\n",
              "    </tr>\n",
              "  </tbody>\n",
              "</table>\n",
              "</div>"
            ],
            "text/plain": [
              "      A    B            C           D     E      F\n",
              "0   0.0  0.1         foo1  2009-01-01  10.0  False\n",
              "1   1.0  0.2  new-element  2009-01-02  11.0   True\n",
              "2   2.0  0.3         foo3  2009-01-05  12.0   True\n",
              "3   3.0  0.4         foo4  2009-01-06  13.0   True\n",
              "4  10.0 -1.0      new-row  2020-01-01  20.0   True"
            ]
          },
          "execution_count": 27,
          "metadata": {},
          "output_type": "execute_result"
        }
      ],
      "source": [
        "df"
      ]
    },
    {
      "cell_type": "markdown",
      "metadata": {
        "slideshow": {
          "slide_type": "slide"
        }
      },
      "source": [
        "## Descriptive Statistics\n",
        "*   A key advantage of pandas is the way that it allows you to easily analyse the tabular data contained within a DataFrame with builtin descriptive stats functions.\n",
        "*   DataFrames can be summarised with a range of functions. A full list is available here: https://pandas.pydata.org/pandas-docs/stable/reference/frame.html#computations-descriptive-stats\n",
        "*   Note that different functions will apply to different data types. i.e. you can not calculate the mean of a series of strings.\n",
        "*   Here we show several of the summary functions applied to the numerical series in column 'A'"
      ]
    },
    {
      "cell_type": "code",
      "execution_count": 14,
      "metadata": {},
      "outputs": [
        {
          "name": "stdout",
          "output_type": "stream",
          "text": [
            "Col A mean: 3.2\n",
            "Col A stdev: 3.96232255123179\n",
            "Col A min: 0.0\n",
            "Col A max: 10.0\n"
          ]
        }
      ],
      "source": [
        "print('Col A mean:', df['A'].mean())  # Column mean\n",
        "print('Col A stdev:', df['A'].std())  # Column standard deviation\n",
        "print('Col A min:', df['A'].min())    # Column minimum value\n",
        "print('Col A max:', df['A'].max())    # Column maximum value"
      ]
    },
    {
      "cell_type": "markdown",
      "metadata": {
        "slideshow": {
          "slide_type": "slide"
        }
      },
      "source": [
        "### Full Table Descriptive Stats\n",
        "*   You can apply many of the functions to whole dataframes\n",
        "*   However, they will not work if some columns have incompatable types\n",
        "*   If you do apply a function to a whole dataframe it will return a series"
      ]
    },
    {
      "cell_type": "code",
      "execution_count": 15,
      "metadata": {},
      "outputs": [
        {
          "name": "stdout",
          "output_type": "stream",
          "text": [
            "max:\n",
            "A          10.0\n",
            "B           0.4\n",
            "C       new-row\n",
            "D    2020-01-01\n",
            "E          20.0\n",
            "F          True\n",
            "dtype: object\n",
            "\n",
            "mean:\n",
            "A    3.2\n",
            "B    0.0\n",
            "dtype: float64\n"
          ]
        }
      ],
      "source": [
        "# Print the maximum of each column (note strings can have a maximum)\n",
        "print('max:')\n",
        "print(df.max())\n",
        "\n",
        "# This would not work because some of the column types do not have an arithmetic mean\n",
        "# df.mean()\n",
        "\n",
        "# You can create new dataframes that will work\n",
        "print('\\nmean:')\n",
        "print(df[['A','B']].mean())"
      ]
    },
    {
      "cell_type": "markdown",
      "metadata": {
        "slideshow": {
          "slide_type": "slide"
        }
      },
      "source": [
        "## Reading and Writing Data\n",
        "*   Pandas can create data frames by reading from many types of input (file formats)\n",
        "    *   e.g. CSV, excel, SQL, JSON, etc.\n",
        "*   These files can be read with functions `pd.read_...`\n",
        "    *   e.g. `pd.read_csv`, `pd.read_excel`, `pd.read_sql`, `pd.read_json`, etc.\n",
        "*   Pandas can also write (save) data frames back into these file formats\n",
        "    *   e.g. `pd.write_csv`, `pd.write_excel`, `pd.write_sql`, `pd.write_json`, etc."
      ]
    },
    {
      "cell_type": "markdown",
      "metadata": {
        "slideshow": {
          "slide_type": "slide"
        }
      },
      "source": [
        "### Filepaths\n",
        "*   To use any of these functions you need to provide a filepath to the data file\n",
        "*   This tells the code the location and name of the file\n",
        "*   On a windows PC, these typically look something like:  \n",
        "`C:\\Users\\YourUserName\\Documents\\MyData.xlsx`\n",
        "*   However, on Colab, you do not have a local filesystem to store the file so there are three options\n",
        "    *   Read the file from a web URL\n",
        "    *   Upload the file at runtime using a special colab function\n",
        "    *   Store the file on your google drive"
      ]
    },
    {
      "cell_type": "markdown",
      "metadata": {
        "slideshow": {
          "slide_type": "slide"
        }
      },
      "source": [
        "#### URL Filepath\n",
        "*   For the examples in tutorials we will often use URLs for data sources\n",
        "*   Simply include the full URL including the starting `http://` or `https://`\n",
        "*   **Obviously, you cannot publish the majority of medical data openly online**"
      ]
    },
    {
      "cell_type": "code",
      "execution_count": 16,
      "metadata": {},
      "outputs": [],
      "source": [
        "url_filepath = 'https://teaching.bowyer.io/SDSAI/1/data/dummy_crp_data.csv'"
      ]
    },
    {
      "cell_type": "markdown",
      "metadata": {
        "slideshow": {
          "slide_type": "slide"
        }
      },
      "source": [
        "#### Filepath of Upload to Colab\n",
        "*   The Google Python package (that is always installed in Colab) includes an upload function  \n",
        "`goolge.colab.files.upload()`\n",
        "*   This will pop-up an upload box in the Colab notebook allowing you to locate a file from their computer to upload\n",
        "*   More information is available here: https://colab.research.google.com/notebooks/io.ipynb\n",
        "\n",
        "```python\n",
        "# You need to import the Colab file upload module\n",
        "from google.colab import files\n",
        "\n",
        "# Then call the upload function which will store the file temporarily and return a usable filepath\n",
        "upload_filepath = files.upload()\n",
        "```"
      ]
    },
    {
      "cell_type": "markdown",
      "metadata": {
        "slideshow": {
          "slide_type": "slide"
        }
      },
      "source": [
        "#### Google Drive Filepath\n",
        "*   The Google Python package also includes an function to mount your Google Drive \n",
        "`goolge.colab.drive.mount()`\n",
        "*   This will grant Colab access to your Google Drive with a specific filepath\n",
        "*   It will also ask you permission for the access\n",
        "*   Note, to use a file from your Google Drive, you will need to prepend the mount path you provided to the `mount()` function\n",
        "*   More information is available here: https://colab.research.google.com/notebooks/io.ipynb\n",
        "\n",
        "```python\n",
        "# You need to import the Colab Google Drive module\n",
        "from google.colab import drive\n",
        "\n",
        "# Then call the mount function to 'mount' the google drive\n",
        "drive.mount('/content/drive')\n",
        "\n",
        "# Then you can access your files\n",
        "gdrive_filepath = '/content/drive/My Drive/path_to_file_on_gdrive'\n",
        "```"
      ]
    },
    {
      "cell_type": "markdown",
      "metadata": {
        "slideshow": {
          "slide_type": "slide"
        }
      },
      "source": [
        "### Read CSV\n",
        "*   Comma Separated Variable (CSV) are a common and simple way of storing data in text files\n",
        "*   These files (typically) have rows of data where the value for each column is separated by a comma\n",
        "```\n",
        "patient_id, date_of_birth, height, weight\n",
        "001, 2001-04-13, 1.65, 67\n",
        "002, 1982-11-23, 1.45, 52\n",
        "etc.\n",
        "```\n",
        "*   The `pd.read_csv` function can load them and has many helpful behaviours:\n",
        "    *   It will interpret the first line of the CSV as the column labels\n",
        "    *   It will do a decent job of inferring column types (sometimes struggles with datetime formats)\n",
        "    *   It has lots of customisation options for differently formatted files"
      ]
    },
    {
      "cell_type": "code",
      "execution_count": 17,
      "metadata": {},
      "outputs": [
        {
          "data": {
            "text/html": [
              "<div>\n",
              "<style scoped>\n",
              "    .dataframe tbody tr th:only-of-type {\n",
              "        vertical-align: middle;\n",
              "    }\n",
              "\n",
              "    .dataframe tbody tr th {\n",
              "        vertical-align: top;\n",
              "    }\n",
              "\n",
              "    .dataframe thead th {\n",
              "        text-align: right;\n",
              "    }\n",
              "</style>\n",
              "<table border=\"1\" class=\"dataframe\">\n",
              "  <thead>\n",
              "    <tr style=\"text-align: right;\">\n",
              "      <th></th>\n",
              "      <th>patients</th>\n",
              "      <th>crp</th>\n",
              "    </tr>\n",
              "  </thead>\n",
              "  <tbody>\n",
              "    <tr>\n",
              "      <th>0</th>\n",
              "      <td>Liam</td>\n",
              "      <td>0.1912 mg/L</td>\n",
              "    </tr>\n",
              "    <tr>\n",
              "      <th>1</th>\n",
              "      <td>Emma</td>\n",
              "      <td>0.0697 mg/L</td>\n",
              "    </tr>\n",
              "    <tr>\n",
              "      <th>2</th>\n",
              "      <td>Noah</td>\n",
              "      <td>6.063 mg/L</td>\n",
              "    </tr>\n",
              "    <tr>\n",
              "      <th>3</th>\n",
              "      <td>Amelia</td>\n",
              "      <td>8.7888 mg/L</td>\n",
              "    </tr>\n",
              "    <tr>\n",
              "      <th>4</th>\n",
              "      <td>Noah</td>\n",
              "      <td>6.1414 mg/L</td>\n",
              "    </tr>\n",
              "  </tbody>\n",
              "</table>\n",
              "</div>"
            ],
            "text/plain": [
              "  patients          crp\n",
              "0     Liam  0.1912 mg/L\n",
              "1     Emma  0.0697 mg/L\n",
              "2     Noah   6.063 mg/L\n",
              "3   Amelia  8.7888 mg/L\n",
              "4     Noah  6.1414 mg/L"
            ]
          },
          "execution_count": 17,
          "metadata": {},
          "output_type": "execute_result"
        }
      ],
      "source": [
        "df_crp = pd.read_csv(url_filepath)\n",
        "df_crp.head()"
      ]
    },
    {
      "cell_type": "markdown",
      "metadata": {},
      "source": [
        "### Write CSV\n",
        "*   To write a pandas data frame to a CSV (or other format), call the `to_csv()` method of the data frame\n",
        "*   You will also need to provide the filepath to save the file to\n",
        "*   As with the `read_` functions, the `to_` functions are highly configurable\n",
        "*   Unless you are saving the file to your google drive, you will need to download the file from Colab to your computer\n",
        "*   Again, more information is available here: https://colab.research.google.com/notebooks/io.ipynb"
      ]
    },
    {
      "cell_type": "code",
      "execution_count": 18,
      "metadata": {},
      "outputs": [],
      "source": [
        "df_crp.to_csv('./test.csv')"
      ]
    },
    {
      "cell_type": "markdown",
      "metadata": {
        "slideshow": {
          "slide_type": "slide"
        }
      },
      "source": [
        "## Combining, Grouping, and Reshaping Data Frames\n",
        "*   Combining, grouping, and reshaping data frames are common things you will need to do when working with clinical and surgical data"
      ]
    },
    {
      "cell_type": "markdown",
      "metadata": {
        "slideshow": {
          "slide_type": "slide"
        }
      },
      "source": [
        "### Combining Data Frames\n",
        "*   Combining data frames means combining data in rows or columns from two or more data frames together\n",
        "*   Two typical uses for this are:\n",
        "    *   Combining two or more data frames with the same structure into one table - i.e. combining surgical diagnosis data from two different time periods  \n",
        "    *Think of this as stacking the data frames on top of each other*\n",
        "    *   Combining two or more data frames to link information in different columns between them - i.e. working out whether patients with a specific diagnosis (from one table) also have had a specific surgery (from another table)  \n",
        "    *Think of this as putting the two data frames next to each other*"
      ]
    },
    {
      "cell_type": "markdown",
      "metadata": {
        "slideshow": {
          "slide_type": "slide"
        }
      },
      "source": [
        "#### Data Frame Concatenation\n",
        "*   Concatenation (`pd.concat`) is used for combining dataset with the same structure, one on top of the other\n",
        "*   Concatenation means linking things together in series\n",
        "*   There are (less common) cases where you might want to concatenate data frames and series 'side-by-side' using `pd.concat` (see the docs)\n",
        "\n",
        "![pandas concat tables](https://pandas.pydata.org/docs/_images/merging_concat_basic.png)\n",
        "<small><p>Copyright 2024 <a href=https://pandas.pydata.org/docs>pandas</a> - <a href=https://opensource.org/license/bsd-3-clause>BSD 3-Clause License</a></p></small>"
      ]
    },
    {
      "cell_type": "markdown",
      "metadata": {
        "slideshow": {
          "slide_type": "slide"
        }
      },
      "source": [
        "#### Data Frame Concatenation Example\n",
        "*   For example, here we have two demographics datasets that we want to combine and analyse:\n",
        "    *   One is from paediatric patients (< 18 years old)\n",
        "    *   The other is from adult patients (>= 18 years old)\n",
        "*   This operation will only work if the columns and types being concatenated are the same between inputs\n",
        "*   Note the `pd.concat` function takes a list of data frames to concatenate together, therefore you can combine many in one operation"
      ]
    },
    {
      "cell_type": "code",
      "execution_count": 19,
      "metadata": {},
      "outputs": [
        {
          "name": "stdout",
          "output_type": "stream",
          "text": [
            "Rows in adult:  741\n",
            "Rows in paeds:  259\n",
            "Rows in concat: 1000\n"
          ]
        }
      ],
      "source": [
        "# Load the two demographics tables\n",
        "df_adult = pd.read_csv(\"https://teaching.bowyer.io/SDSAI/2/data/demographics_adult.csv\")\n",
        "df_paediatric = pd.read_csv(\"https://teaching.bowyer.io/SDSAI/2/data/demographics_paediatric.csv\")\n",
        "\n",
        "# Concat the two demographics tables together\n",
        "df_concat = pd.concat([df_adult, df_paediatric])\n",
        "\n",
        "print(\"Rows in adult: \", df_adult.shape[0])\n",
        "print(\"Rows in paeds: \", df_paediatric.shape[0])\n",
        "print(\"Rows in concat:\", df_concat.shape[0])"
      ]
    },
    {
      "cell_type": "markdown",
      "metadata": {
        "slideshow": {
          "slide_type": "slide"
        }
      },
      "source": [
        "#### Data Frame Merging\n",
        "*   Merging (`pd.merge`) is used for combining datasets when you want to link information between them\n",
        "*   To use a merge, you will need a 'key' that exists in both tables to identify which rows relate to the same entity\n",
        "*   The 'key' can be relate to a patient, a surgery, a clinician, a medical device or a range of other things\n",
        "*   The 'key' is typically a number or simplified string to minimise the chance of key confusion (i.e. `patient_key` would be something like `012345` rather than `John A Doe`)\n",
        "\n",
        "![pandas merge tables](https://pandas.pydata.org/docs/_images/merging_merge_on_key.png)\n",
        "<small><p>Copyright 2024 <a href=https://pandas.pydata.org/docs>pandas</a> - <a href=https://opensource.org/license/bsd-3-clause>BSD 3-Clause License</a></p></small>"
      ]
    },
    {
      "cell_type": "markdown",
      "metadata": {
        "slideshow": {
          "slide_type": "slide"
        }
      },
      "source": [
        "#### Data Frame Merging Example\n",
        "*   For example, here we consider the case where we want to link information from patient demographics to a surgical outcome\n",
        "*   Specifically, we want to know whether gender (stored in demographics data frame) is associated with increased recovery time (stored in recovery data frame)"
      ]
    },
    {
      "cell_type": "code",
      "execution_count": 20,
      "metadata": {},
      "outputs": [
        {
          "data": {
            "text/html": [
              "<div>\n",
              "<style scoped>\n",
              "    .dataframe tbody tr th:only-of-type {\n",
              "        vertical-align: middle;\n",
              "    }\n",
              "\n",
              "    .dataframe tbody tr th {\n",
              "        vertical-align: top;\n",
              "    }\n",
              "\n",
              "    .dataframe thead th {\n",
              "        text-align: right;\n",
              "    }\n",
              "</style>\n",
              "<table border=\"1\" class=\"dataframe\">\n",
              "  <thead>\n",
              "    <tr style=\"text-align: right;\">\n",
              "      <th></th>\n",
              "      <th>id</th>\n",
              "      <th>firstname</th>\n",
              "      <th>lastname</th>\n",
              "      <th>date_of_birth</th>\n",
              "      <th>gender</th>\n",
              "      <th>ethnicity_code</th>\n",
              "    </tr>\n",
              "  </thead>\n",
              "  <tbody>\n",
              "    <tr>\n",
              "      <th>0</th>\n",
              "      <td>1</td>\n",
              "      <td>Christine</td>\n",
              "      <td>Richard</td>\n",
              "      <td>2020-10-06</td>\n",
              "      <td>Female</td>\n",
              "      <td>Z</td>\n",
              "    </tr>\n",
              "    <tr>\n",
              "      <th>1</th>\n",
              "      <td>2</td>\n",
              "      <td>Tammie</td>\n",
              "      <td>Chang</td>\n",
              "      <td>2011-03-05</td>\n",
              "      <td>Female</td>\n",
              "      <td>P</td>\n",
              "    </tr>\n",
              "    <tr>\n",
              "      <th>2</th>\n",
              "      <td>3</td>\n",
              "      <td>Craig</td>\n",
              "      <td>Fisher</td>\n",
              "      <td>2008-03-14</td>\n",
              "      <td>Male</td>\n",
              "      <td>P</td>\n",
              "    </tr>\n",
              "    <tr>\n",
              "      <th>3</th>\n",
              "      <td>4</td>\n",
              "      <td>Cody</td>\n",
              "      <td>Green</td>\n",
              "      <td>2005-11-10</td>\n",
              "      <td>Male</td>\n",
              "      <td>N</td>\n",
              "    </tr>\n",
              "    <tr>\n",
              "      <th>4</th>\n",
              "      <td>5</td>\n",
              "      <td>Cassidy</td>\n",
              "      <td>Dixon</td>\n",
              "      <td>1964-01-11</td>\n",
              "      <td>Female</td>\n",
              "      <td>D</td>\n",
              "    </tr>\n",
              "  </tbody>\n",
              "</table>\n",
              "</div>"
            ],
            "text/plain": [
              "   id  firstname lastname date_of_birth  gender ethnicity_code\n",
              "0   1  Christine  Richard    2020-10-06  Female              Z\n",
              "1   2     Tammie    Chang    2011-03-05  Female              P\n",
              "2   3      Craig   Fisher    2008-03-14    Male              P\n",
              "3   4       Cody    Green    2005-11-10    Male              N\n",
              "4   5    Cassidy    Dixon    1964-01-11  Female              D"
            ]
          },
          "execution_count": 20,
          "metadata": {},
          "output_type": "execute_result"
        }
      ],
      "source": [
        "df_demographics = pd.read_csv(\"https://teaching.bowyer.io/SDSAI/2/data/demographics.csv\")\n",
        "df_demographics.head()"
      ]
    },
    {
      "cell_type": "code",
      "execution_count": 21,
      "metadata": {},
      "outputs": [
        {
          "data": {
            "text/html": [
              "<div>\n",
              "<style scoped>\n",
              "    .dataframe tbody tr th:only-of-type {\n",
              "        vertical-align: middle;\n",
              "    }\n",
              "\n",
              "    .dataframe tbody tr th {\n",
              "        vertical-align: top;\n",
              "    }\n",
              "\n",
              "    .dataframe thead th {\n",
              "        text-align: right;\n",
              "    }\n",
              "</style>\n",
              "<table border=\"1\" class=\"dataframe\">\n",
              "  <thead>\n",
              "    <tr style=\"text-align: right;\">\n",
              "      <th></th>\n",
              "      <th>id</th>\n",
              "      <th>recovery_days</th>\n",
              "    </tr>\n",
              "  </thead>\n",
              "  <tbody>\n",
              "    <tr>\n",
              "      <th>0</th>\n",
              "      <td>994</td>\n",
              "      <td>9.6470</td>\n",
              "    </tr>\n",
              "    <tr>\n",
              "      <th>1</th>\n",
              "      <td>860</td>\n",
              "      <td>10.5188</td>\n",
              "    </tr>\n",
              "    <tr>\n",
              "      <th>2</th>\n",
              "      <td>299</td>\n",
              "      <td>15.1428</td>\n",
              "    </tr>\n",
              "    <tr>\n",
              "      <th>3</th>\n",
              "      <td>554</td>\n",
              "      <td>4.3867</td>\n",
              "    </tr>\n",
              "    <tr>\n",
              "      <th>4</th>\n",
              "      <td>673</td>\n",
              "      <td>14.7204</td>\n",
              "    </tr>\n",
              "  </tbody>\n",
              "</table>\n",
              "</div>"
            ],
            "text/plain": [
              "    id  recovery_days\n",
              "0  994         9.6470\n",
              "1  860        10.5188\n",
              "2  299        15.1428\n",
              "3  554         4.3867\n",
              "4  673        14.7204"
            ]
          },
          "execution_count": 21,
          "metadata": {},
          "output_type": "execute_result"
        }
      ],
      "source": [
        "df_recovery = pd.read_csv(\"https://teaching.bowyer.io/SDSAI/2/data/simple_recovery.csv\")\n",
        "df_recovery.head()"
      ]
    },
    {
      "cell_type": "markdown",
      "metadata": {
        "slideshow": {
          "slide_type": "slide"
        }
      },
      "source": [
        "#### Data Frame Merging Example\n",
        "*   The `pd.merge` refers to its inputs as `left` and `right`, by specifying these inputs to be our two tables that share the `id` key we can link the data\n",
        "*   The `on` parameter lets you specify which column to use as the key and you can use multiple if needed"
      ]
    },
    {
      "cell_type": "code",
      "execution_count": 22,
      "metadata": {},
      "outputs": [
        {
          "data": {
            "text/html": [
              "<div>\n",
              "<style scoped>\n",
              "    .dataframe tbody tr th:only-of-type {\n",
              "        vertical-align: middle;\n",
              "    }\n",
              "\n",
              "    .dataframe tbody tr th {\n",
              "        vertical-align: top;\n",
              "    }\n",
              "\n",
              "    .dataframe thead th {\n",
              "        text-align: right;\n",
              "    }\n",
              "</style>\n",
              "<table border=\"1\" class=\"dataframe\">\n",
              "  <thead>\n",
              "    <tr style=\"text-align: right;\">\n",
              "      <th></th>\n",
              "      <th>id</th>\n",
              "      <th>firstname</th>\n",
              "      <th>lastname</th>\n",
              "      <th>date_of_birth</th>\n",
              "      <th>gender</th>\n",
              "      <th>ethnicity_code</th>\n",
              "      <th>recovery_days</th>\n",
              "    </tr>\n",
              "  </thead>\n",
              "  <tbody>\n",
              "    <tr>\n",
              "      <th>0</th>\n",
              "      <td>1</td>\n",
              "      <td>Christine</td>\n",
              "      <td>Richard</td>\n",
              "      <td>2020-10-06</td>\n",
              "      <td>Female</td>\n",
              "      <td>Z</td>\n",
              "      <td>10.7129</td>\n",
              "    </tr>\n",
              "    <tr>\n",
              "      <th>1</th>\n",
              "      <td>2</td>\n",
              "      <td>Tammie</td>\n",
              "      <td>Chang</td>\n",
              "      <td>2011-03-05</td>\n",
              "      <td>Female</td>\n",
              "      <td>P</td>\n",
              "      <td>12.2275</td>\n",
              "    </tr>\n",
              "    <tr>\n",
              "      <th>2</th>\n",
              "      <td>3</td>\n",
              "      <td>Craig</td>\n",
              "      <td>Fisher</td>\n",
              "      <td>2008-03-14</td>\n",
              "      <td>Male</td>\n",
              "      <td>P</td>\n",
              "      <td>13.4941</td>\n",
              "    </tr>\n",
              "    <tr>\n",
              "      <th>3</th>\n",
              "      <td>4</td>\n",
              "      <td>Cody</td>\n",
              "      <td>Green</td>\n",
              "      <td>2005-11-10</td>\n",
              "      <td>Male</td>\n",
              "      <td>N</td>\n",
              "      <td>9.5182</td>\n",
              "    </tr>\n",
              "    <tr>\n",
              "      <th>4</th>\n",
              "      <td>5</td>\n",
              "      <td>Cassidy</td>\n",
              "      <td>Dixon</td>\n",
              "      <td>1964-01-11</td>\n",
              "      <td>Female</td>\n",
              "      <td>D</td>\n",
              "      <td>21.8946</td>\n",
              "    </tr>\n",
              "  </tbody>\n",
              "</table>\n",
              "</div>"
            ],
            "text/plain": [
              "   id  firstname lastname date_of_birth  gender ethnicity_code  recovery_days\n",
              "0   1  Christine  Richard    2020-10-06  Female              Z        10.7129\n",
              "1   2     Tammie    Chang    2011-03-05  Female              P        12.2275\n",
              "2   3      Craig   Fisher    2008-03-14    Male              P        13.4941\n",
              "3   4       Cody    Green    2005-11-10    Male              N         9.5182\n",
              "4   5    Cassidy    Dixon    1964-01-11  Female              D        21.8946"
            ]
          },
          "execution_count": 22,
          "metadata": {},
          "output_type": "execute_result"
        }
      ],
      "source": [
        "df_merged = pd.merge(df_demographics, df_recovery, on='id')\n",
        "\n",
        "df_merged.head()"
      ]
    },
    {
      "cell_type": "markdown",
      "metadata": {
        "slideshow": {
          "slide_type": "slide"
        }
      },
      "source": [
        "#### Data Frame Merging Nuances\n",
        "*   There are two important considerations for this form or merge:\n",
        "    1.   What happens when keys are repeated in one or both columns\n",
        "    1.   What happens when keys do not exist in both of the columns\n",
        "*   In these instances, the outcome is defined by the type of merge applied (specified using the `how` parameter)\n",
        "    *   `left`: use only keys from left frame; preserve key order.\n",
        "    *   `right`: use only keys from right frame; preserve key order.\n",
        "    *   `outer`: use union of keys from both frames; sort keys lexicographically.\n",
        "    *   `inner`: use intersection of keys from both frames; preserve the order of the left keys.\n",
        "    *   `cross`: creates the cartesian product from both frames, preserves the order of the left keys.\n",
        "*   Review the documentation for more detail https://pandas.pydata.org/docs/user_guide/merging.html#merge-types"
      ]
    },
    {
      "cell_type": "markdown",
      "metadata": {
        "slideshow": {
          "slide_type": "slide"
        }
      },
      "source": [
        "### Grouping Data Frames\n",
        "*   Once you have your data in a single data frame, you will often want to apply some of the descriptive statistics we covered previously"
      ]
    },
    {
      "cell_type": "code",
      "execution_count": 23,
      "metadata": {},
      "outputs": [
        {
          "name": "stdout",
          "output_type": "stream",
          "text": [
            "The mean recovery (days) is 11.2567577\n"
          ]
        }
      ],
      "source": [
        "print('The mean recovery (days) is', df_merged['recovery_days'].mean())"
      ]
    },
    {
      "cell_type": "markdown",
      "metadata": {},
      "source": [
        "*   To make this useful, you typically need to apply the descriptive statistics based on some characteristic of the data set, rather than everything\n",
        "*   E.g. in the previous example, we want to compare recovery times by gender\n",
        "    *   You could filter the data and split it into multiple different data frames\n",
        "    *   However, `groupby` provides a simple solution"
      ]
    },
    {
      "cell_type": "markdown",
      "metadata": {
        "slideshow": {
          "slide_type": "slide"
        }
      },
      "source": [
        "#### `groupby`\n",
        "*   This function takes a list of columns to apply the grouping based on\n",
        "*   It returns a special data frame such that future operations are applied group-wise"
      ]
    },
    {
      "cell_type": "code",
      "execution_count": 24,
      "metadata": {},
      "outputs": [
        {
          "data": {
            "text/plain": [
              "gender\n",
              "Female        12.345797\n",
              "Male          10.286873\n",
              "Non-binary     8.356794\n",
              "Name: recovery_days, dtype: float64"
            ]
          },
          "execution_count": 24,
          "metadata": {},
          "output_type": "execute_result"
        }
      ],
      "source": [
        "# Group the data frame\n",
        "df_grouped = df_merged.groupby(['gender'])\n",
        "\n",
        "# Get the mean of the recovery_days column by group\n",
        "df_grouped['recovery_days'].mean()"
      ]
    },
    {
      "cell_type": "markdown",
      "metadata": {
        "slideshow": {
          "slide_type": "slide"
        }
      },
      "source": [
        "#### `groupby` Multiple Columns\n",
        "*   As `groupby` can group on several columns, it can be helpful for exploring features within your data\n",
        "*   For example, if we wanted to include an age category\n",
        "*   For multiple grouping columns, the function will return the table of combinations with associated descriptive statistics"
      ]
    },
    {
      "cell_type": "code",
      "execution_count": 25,
      "metadata": {},
      "outputs": [
        {
          "data": {
            "text/plain": [
              "gender      born_pre_2000\n",
              "Female      False            12.415089\n",
              "            True             12.308300\n",
              "Male        False            10.059107\n",
              "            True             10.400412\n",
              "Non-binary  False             6.933717\n",
              "            True              9.133018\n",
              "Name: recovery_days, dtype: float64"
            ]
          },
          "execution_count": 25,
          "metadata": {},
          "output_type": "execute_result"
        }
      ],
      "source": [
        "# Add a new column so specify (arbitrary) age group\n",
        "df_merged['born_pre_2000'] = df_merged['date_of_birth'] < '2000-01-01'\n",
        "\n",
        "# Group the data frame\n",
        "df_grouped2 = df_merged.groupby(['gender', 'born_pre_2000'])\n",
        "\n",
        "# Get the mean of the recovery_days column by group\n",
        "df_grouped2['recovery_days'].mean()"
      ]
    },
    {
      "cell_type": "markdown",
      "metadata": {
        "slideshow": {
          "slide_type": "slide"
        }
      },
      "source": [
        "### Reshaping Data\n",
        "*   Tabular data is often referred to as either 'long' or 'wide' format\n",
        "    *   Long - Each row represents a single **observation** (multiple rows for a single **subject**)\n",
        "    *   Wide - Each row represents a single **subject** (multiple columns for different **observations**)\n",
        "*   You will often need to reshape data between these two formats to apply analyses\n",
        "*   Data can be reshaped \n",
        "    *   `pivot` - converts long to wide\n",
        "    *   `melt` - converts wide to long\n",
        "*   Note, we talk about subjects here; however, this could be more than just a patient. e.g. an admission, clinican, equipment, or any other entity from which multiple observations can be recorded"
      ]
    },
    {
      "cell_type": "markdown",
      "metadata": {
        "slideshow": {
          "slide_type": "slide"
        }
      },
      "source": [
        "#### Pivot (long to wide format)\n",
        "*   Wide formatted data are **typically**:\n",
        "    *   Clearer to get an understanding of a single subject\n",
        "    *   Better formatted for use with regression and machine learning methods and libraries\n",
        "    *   Easier to present as human-readable tables\n",
        "*   The following example uses some monitoring data taken from five different patients stored in a long format\n",
        "    *   Each row represents a single sensor's observation of the patient\n",
        "    *   Each patient has several associated rows"
      ]
    },
    {
      "cell_type": "code",
      "execution_count": 26,
      "metadata": {},
      "outputs": [
        {
          "data": {
            "text/html": [
              "<div>\n",
              "<style scoped>\n",
              "    .dataframe tbody tr th:only-of-type {\n",
              "        vertical-align: middle;\n",
              "    }\n",
              "\n",
              "    .dataframe tbody tr th {\n",
              "        vertical-align: top;\n",
              "    }\n",
              "\n",
              "    .dataframe thead th {\n",
              "        text-align: right;\n",
              "    }\n",
              "</style>\n",
              "<table border=\"1\" class=\"dataframe\">\n",
              "  <thead>\n",
              "    <tr style=\"text-align: right;\">\n",
              "      <th></th>\n",
              "      <th>patient_id</th>\n",
              "      <th>taken_datetime</th>\n",
              "      <th>sensor</th>\n",
              "      <th>value</th>\n",
              "    </tr>\n",
              "  </thead>\n",
              "  <tbody>\n",
              "    <tr>\n",
              "      <th>0</th>\n",
              "      <td>1</td>\n",
              "      <td>2024-10-01 09:15:01.822829</td>\n",
              "      <td>spo2</td>\n",
              "      <td>99.5 %</td>\n",
              "    </tr>\n",
              "    <tr>\n",
              "      <th>1</th>\n",
              "      <td>4</td>\n",
              "      <td>2024-10-01 09:15:32.100301</td>\n",
              "      <td>hr</td>\n",
              "      <td>76 bpm</td>\n",
              "    </tr>\n",
              "    <tr>\n",
              "      <th>2</th>\n",
              "      <td>3</td>\n",
              "      <td>2024-10-01 09:16:54.616240</td>\n",
              "      <td>temp</td>\n",
              "      <td>38.38 deg</td>\n",
              "    </tr>\n",
              "    <tr>\n",
              "      <th>3</th>\n",
              "      <td>3</td>\n",
              "      <td>2024-10-01 09:18:11.925814</td>\n",
              "      <td>bp</td>\n",
              "      <td>120/75 mmHg</td>\n",
              "    </tr>\n",
              "    <tr>\n",
              "      <th>4</th>\n",
              "      <td>1</td>\n",
              "      <td>2024-10-01 09:18:36.531250</td>\n",
              "      <td>bis</td>\n",
              "      <td>42</td>\n",
              "    </tr>\n",
              "    <tr>\n",
              "      <th>5</th>\n",
              "      <td>1</td>\n",
              "      <td>2024-10-01 09:24:17.762895</td>\n",
              "      <td>bp</td>\n",
              "      <td>105/72 mmHg</td>\n",
              "    </tr>\n",
              "    <tr>\n",
              "      <th>6</th>\n",
              "      <td>3</td>\n",
              "      <td>2024-10-01 09:25:14.057691</td>\n",
              "      <td>hr</td>\n",
              "      <td>62 bpm</td>\n",
              "    </tr>\n",
              "    <tr>\n",
              "      <th>7</th>\n",
              "      <td>5</td>\n",
              "      <td>2024-10-01 09:28:19.713776</td>\n",
              "      <td>bis</td>\n",
              "      <td>43</td>\n",
              "    </tr>\n",
              "  </tbody>\n",
              "</table>\n",
              "</div>"
            ],
            "text/plain": [
              "   patient_id              taken_datetime sensor        value\n",
              "0           1  2024-10-01 09:15:01.822829   spo2       99.5 %\n",
              "1           4  2024-10-01 09:15:32.100301     hr       76 bpm\n",
              "2           3  2024-10-01 09:16:54.616240   temp    38.38 deg\n",
              "3           3  2024-10-01 09:18:11.925814     bp  120/75 mmHg\n",
              "4           1  2024-10-01 09:18:36.531250    bis           42\n",
              "5           1  2024-10-01 09:24:17.762895     bp  105/72 mmHg\n",
              "6           3  2024-10-01 09:25:14.057691     hr       62 bpm\n",
              "7           5  2024-10-01 09:28:19.713776    bis           43"
            ]
          },
          "execution_count": 26,
          "metadata": {},
          "output_type": "execute_result"
        }
      ],
      "source": [
        "df_long = pd.read_csv(\"https://teaching.bowyer.io/SDSAI/2/data/long_monitoring.csv\")\n",
        "\n",
        "df_long.head(8)"
      ]
    },
    {
      "cell_type": "markdown",
      "metadata": {
        "slideshow": {
          "slide_type": "slide"
        }
      },
      "source": [
        "#### Pivot Example\n",
        "*   To transform the above table from long to wide, we will use the pandas `pivot` method\n",
        "*   https://pandas.pydata.org/docs/reference/api/pandas.pivot.html#pandas.pivot\n",
        "*   Note that the `taken_datetime` column is lost from the data\n",
        "*   Note how the wide (output) table is easier to quickly inspect and interpret (for a human) than the long version"
      ]
    },
    {
      "cell_type": "code",
      "execution_count": 27,
      "metadata": {},
      "outputs": [
        {
          "data": {
            "text/html": [
              "<div>\n",
              "<style scoped>\n",
              "    .dataframe tbody tr th:only-of-type {\n",
              "        vertical-align: middle;\n",
              "    }\n",
              "\n",
              "    .dataframe tbody tr th {\n",
              "        vertical-align: top;\n",
              "    }\n",
              "\n",
              "    .dataframe thead th {\n",
              "        text-align: right;\n",
              "    }\n",
              "</style>\n",
              "<table border=\"1\" class=\"dataframe\">\n",
              "  <thead>\n",
              "    <tr style=\"text-align: right;\">\n",
              "      <th>sensor</th>\n",
              "      <th>bis</th>\n",
              "      <th>bp</th>\n",
              "      <th>hr</th>\n",
              "      <th>spo2</th>\n",
              "      <th>temp</th>\n",
              "    </tr>\n",
              "    <tr>\n",
              "      <th>patient_id</th>\n",
              "      <th></th>\n",
              "      <th></th>\n",
              "      <th></th>\n",
              "      <th></th>\n",
              "      <th></th>\n",
              "    </tr>\n",
              "  </thead>\n",
              "  <tbody>\n",
              "    <tr>\n",
              "      <th>1</th>\n",
              "      <td>42</td>\n",
              "      <td>105/72 mmHg</td>\n",
              "      <td>84 bpm</td>\n",
              "      <td>99.5 %</td>\n",
              "      <td>37.22 deg</td>\n",
              "    </tr>\n",
              "    <tr>\n",
              "      <th>2</th>\n",
              "      <td>50</td>\n",
              "      <td>119/69 mmHg</td>\n",
              "      <td>86 bpm</td>\n",
              "      <td>99.9 %</td>\n",
              "      <td>36.2 deg</td>\n",
              "    </tr>\n",
              "    <tr>\n",
              "      <th>3</th>\n",
              "      <td>55</td>\n",
              "      <td>120/75 mmHg</td>\n",
              "      <td>62 bpm</td>\n",
              "      <td>99.0 %</td>\n",
              "      <td>38.38 deg</td>\n",
              "    </tr>\n",
              "    <tr>\n",
              "      <th>4</th>\n",
              "      <td>57</td>\n",
              "      <td>101/78 mmHg</td>\n",
              "      <td>76 bpm</td>\n",
              "      <td>99.5 %</td>\n",
              "      <td>37.74 deg</td>\n",
              "    </tr>\n",
              "    <tr>\n",
              "      <th>5</th>\n",
              "      <td>43</td>\n",
              "      <td>118/66 mmHg</td>\n",
              "      <td>92 bpm</td>\n",
              "      <td>96.2 %</td>\n",
              "      <td>36.05 deg</td>\n",
              "    </tr>\n",
              "  </tbody>\n",
              "</table>\n",
              "</div>"
            ],
            "text/plain": [
              "sensor     bis           bp      hr    spo2       temp\n",
              "patient_id                                            \n",
              "1           42  105/72 mmHg  84 bpm  99.5 %  37.22 deg\n",
              "2           50  119/69 mmHg  86 bpm  99.9 %   36.2 deg\n",
              "3           55  120/75 mmHg  62 bpm  99.0 %  38.38 deg\n",
              "4           57  101/78 mmHg  76 bpm  99.5 %  37.74 deg\n",
              "5           43  118/66 mmHg  92 bpm  96.2 %  36.05 deg"
            ]
          },
          "execution_count": 27,
          "metadata": {},
          "output_type": "execute_result"
        }
      ],
      "source": [
        "df_wide = df_long.pivot(    # Call the pivot method of the long data frame\n",
        "    index='patient_id',     # patient_id column used for the rows of the output - we want one row per patient\n",
        "    columns='sensor',       # sensor column used to specify the output observation columns\n",
        "    values='value'          # value column used to specify the values for each observation\n",
        ")\n",
        "df_wide"
      ]
    },
    {
      "cell_type": "markdown",
      "metadata": {
        "slideshow": {
          "slide_type": "slide"
        }
      },
      "source": [
        "#### Pivot Table Example\n",
        "*   There are two conditions when pivoting needs some consideration:\n",
        "    *   What if some subject is missing some observations\n",
        "    *   What if some subject has repeated observations\n",
        "*   Repeated observations will cause `pivot` to fail\n",
        "*   There is a more flexible version of `pivot` called `pivot_table` that has options to address this\n",
        "*   https://pandas.pydata.org/pandas-docs/stable/reference/api/pandas.DataFrame.pivot_table.html#pandas.DataFrame.pivot_table"
      ]
    },
    {
      "cell_type": "code",
      "execution_count": 28,
      "metadata": {},
      "outputs": [
        {
          "data": {
            "text/html": [
              "<div>\n",
              "<style scoped>\n",
              "    .dataframe tbody tr th:only-of-type {\n",
              "        vertical-align: middle;\n",
              "    }\n",
              "\n",
              "    .dataframe tbody tr th {\n",
              "        vertical-align: top;\n",
              "    }\n",
              "\n",
              "    .dataframe thead th {\n",
              "        text-align: right;\n",
              "    }\n",
              "</style>\n",
              "<table border=\"1\" class=\"dataframe\">\n",
              "  <thead>\n",
              "    <tr style=\"text-align: right;\">\n",
              "      <th>sensor</th>\n",
              "      <th>bis</th>\n",
              "      <th>bp</th>\n",
              "      <th>hr</th>\n",
              "      <th>spo2</th>\n",
              "      <th>temp</th>\n",
              "    </tr>\n",
              "    <tr>\n",
              "      <th>patient_id</th>\n",
              "      <th></th>\n",
              "      <th></th>\n",
              "      <th></th>\n",
              "      <th></th>\n",
              "      <th></th>\n",
              "    </tr>\n",
              "  </thead>\n",
              "  <tbody>\n",
              "    <tr>\n",
              "      <th>1</th>\n",
              "      <td>42</td>\n",
              "      <td>105/72 mmHg</td>\n",
              "      <td>84 bpm</td>\n",
              "      <td>MISSING_VALUE</td>\n",
              "      <td>37.22 deg</td>\n",
              "    </tr>\n",
              "    <tr>\n",
              "      <th>2</th>\n",
              "      <td>50</td>\n",
              "      <td>119/69 mmHg</td>\n",
              "      <td>86 bpm</td>\n",
              "      <td>99.9 %</td>\n",
              "      <td>36.2 deg</td>\n",
              "    </tr>\n",
              "    <tr>\n",
              "      <th>3</th>\n",
              "      <td>55</td>\n",
              "      <td>120/75 mmHg</td>\n",
              "      <td>62 bpm</td>\n",
              "      <td>99.0 %</td>\n",
              "      <td>38.38 deg</td>\n",
              "    </tr>\n",
              "    <tr>\n",
              "      <th>4</th>\n",
              "      <td>57</td>\n",
              "      <td>101/78 mmHg</td>\n",
              "      <td>MISSING_VALUE</td>\n",
              "      <td>99.5 %</td>\n",
              "      <td>37.74 deg</td>\n",
              "    </tr>\n",
              "    <tr>\n",
              "      <th>5</th>\n",
              "      <td>43</td>\n",
              "      <td>118/66 mmHg</td>\n",
              "      <td>92 bpm</td>\n",
              "      <td>96.2 %</td>\n",
              "      <td>36.05 deg</td>\n",
              "    </tr>\n",
              "  </tbody>\n",
              "</table>\n",
              "</div>"
            ],
            "text/plain": [
              "sensor     bis           bp             hr           spo2       temp\n",
              "patient_id                                                          \n",
              "1           42  105/72 mmHg         84 bpm  MISSING_VALUE  37.22 deg\n",
              "2           50  119/69 mmHg         86 bpm         99.9 %   36.2 deg\n",
              "3           55  120/75 mmHg         62 bpm         99.0 %  38.38 deg\n",
              "4           57  101/78 mmHg  MISSING_VALUE         99.5 %  37.74 deg\n",
              "5           43  118/66 mmHg         92 bpm         96.2 %  36.05 deg"
            ]
          },
          "execution_count": 28,
          "metadata": {},
          "output_type": "execute_result"
        }
      ],
      "source": [
        "# For example, remove the first pair of observations and duplicate the second pair\n",
        "df_long_corrupt = df_long.drop(index=range(2)) \n",
        "df_long_corrupt = pd.concat([df_long_corrupt.loc[2:3], df_long_corrupt])\n",
        "\n",
        "df_long_corrupt.pivot_table(\n",
        "    index='patient_id',\n",
        "    columns='sensor',\n",
        "    values='value',\n",
        "    aggfunc='min',              # Specify a function to apply to repeated observations\n",
        "    fill_value='MISSING_VALUE'  # Specify a value to fill missing observations (default: NaN)\n",
        ")"
      ]
    },
    {
      "cell_type": "markdown",
      "metadata": {
        "slideshow": {
          "slide_type": "slide"
        }
      },
      "source": [
        "#### Melt (Wide to Long)\n",
        "*   Long formatted data are **typically**:\n",
        "    *   Clearer to get an understanding of a single observation\n",
        "    *   Easier to manipulate and analyse (e.g. combining and grouping tables)\n",
        "    *   Produced by medical systems and databases that hold heterogeneous data\n",
        "    *   Simpler to visualise or plot\n",
        "*   The following example uses some robotic data stored in a wide format\n",
        "    *   Each row represents the state of a given instrument across several observations"
      ]
    },
    {
      "cell_type": "code",
      "execution_count": 29,
      "metadata": {},
      "outputs": [
        {
          "data": {
            "text/html": [
              "<div>\n",
              "<style scoped>\n",
              "    .dataframe tbody tr th:only-of-type {\n",
              "        vertical-align: middle;\n",
              "    }\n",
              "\n",
              "    .dataframe tbody tr th {\n",
              "        vertical-align: top;\n",
              "    }\n",
              "\n",
              "    .dataframe thead th {\n",
              "        text-align: right;\n",
              "    }\n",
              "</style>\n",
              "<table border=\"1\" class=\"dataframe\">\n",
              "  <thead>\n",
              "    <tr style=\"text-align: right;\">\n",
              "      <th></th>\n",
              "      <th>instrument_id</th>\n",
              "      <th>x_pos</th>\n",
              "      <th>y_pos</th>\n",
              "      <th>z_pos</th>\n",
              "      <th>state</th>\n",
              "    </tr>\n",
              "  </thead>\n",
              "  <tbody>\n",
              "    <tr>\n",
              "      <th>0</th>\n",
              "      <td>ROBOT0001</td>\n",
              "      <td>0.078102</td>\n",
              "      <td>-0.122152</td>\n",
              "      <td>0.741860</td>\n",
              "      <td>open</td>\n",
              "    </tr>\n",
              "    <tr>\n",
              "      <th>1</th>\n",
              "      <td>ROBOT0002</td>\n",
              "      <td>0.344303</td>\n",
              "      <td>0.233431</td>\n",
              "      <td>-0.186494</td>\n",
              "      <td>open</td>\n",
              "    </tr>\n",
              "    <tr>\n",
              "      <th>2</th>\n",
              "      <td>ROBOT0003</td>\n",
              "      <td>0.164421</td>\n",
              "      <td>-0.099860</td>\n",
              "      <td>0.466760</td>\n",
              "      <td>closed</td>\n",
              "    </tr>\n",
              "    <tr>\n",
              "      <th>3</th>\n",
              "      <td>ROBOT0004</td>\n",
              "      <td>0.071813</td>\n",
              "      <td>0.626837</td>\n",
              "      <td>0.046232</td>\n",
              "      <td>moving</td>\n",
              "    </tr>\n",
              "  </tbody>\n",
              "</table>\n",
              "</div>"
            ],
            "text/plain": [
              "  instrument_id     x_pos     y_pos     z_pos   state\n",
              "0     ROBOT0001  0.078102 -0.122152  0.741860    open\n",
              "1     ROBOT0002  0.344303  0.233431 -0.186494    open\n",
              "2     ROBOT0003  0.164421 -0.099860  0.466760  closed\n",
              "3     ROBOT0004  0.071813  0.626837  0.046232  moving"
            ]
          },
          "execution_count": 29,
          "metadata": {},
          "output_type": "execute_result"
        }
      ],
      "source": [
        "df_wide = pd.read_csv(\"https://teaching.bowyer.io/SDSAI/2/data/wide_robot.csv\")\n",
        "df_wide"
      ]
    },
    {
      "cell_type": "markdown",
      "metadata": {
        "slideshow": {
          "slide_type": "slide"
        }
      },
      "source": [
        "#### Melt Example\n",
        "*   To transform the above table from wide to long, we will use the pandas `melt` method\n",
        "*   https://pandas.pydata.org/docs/reference/api/pandas.melt.html#pandas.melt\n",
        "*   Note that the column names in the long table can be set with parameters"
      ]
    },
    {
      "cell_type": "code",
      "execution_count": 30,
      "metadata": {},
      "outputs": [
        {
          "data": {
            "text/html": [
              "<div>\n",
              "<style scoped>\n",
              "    .dataframe tbody tr th:only-of-type {\n",
              "        vertical-align: middle;\n",
              "    }\n",
              "\n",
              "    .dataframe tbody tr th {\n",
              "        vertical-align: top;\n",
              "    }\n",
              "\n",
              "    .dataframe thead th {\n",
              "        text-align: right;\n",
              "    }\n",
              "</style>\n",
              "<table border=\"1\" class=\"dataframe\">\n",
              "  <thead>\n",
              "    <tr style=\"text-align: right;\">\n",
              "      <th></th>\n",
              "      <th>instrument_id</th>\n",
              "      <th>variable</th>\n",
              "      <th>value</th>\n",
              "    </tr>\n",
              "  </thead>\n",
              "  <tbody>\n",
              "    <tr>\n",
              "      <th>0</th>\n",
              "      <td>ROBOT0001</td>\n",
              "      <td>x_pos</td>\n",
              "      <td>0.078102</td>\n",
              "    </tr>\n",
              "    <tr>\n",
              "      <th>1</th>\n",
              "      <td>ROBOT0002</td>\n",
              "      <td>x_pos</td>\n",
              "      <td>0.344303</td>\n",
              "    </tr>\n",
              "    <tr>\n",
              "      <th>2</th>\n",
              "      <td>ROBOT0003</td>\n",
              "      <td>x_pos</td>\n",
              "      <td>0.164421</td>\n",
              "    </tr>\n",
              "    <tr>\n",
              "      <th>3</th>\n",
              "      <td>ROBOT0004</td>\n",
              "      <td>x_pos</td>\n",
              "      <td>0.071813</td>\n",
              "    </tr>\n",
              "    <tr>\n",
              "      <th>4</th>\n",
              "      <td>ROBOT0001</td>\n",
              "      <td>y_pos</td>\n",
              "      <td>-0.122152</td>\n",
              "    </tr>\n",
              "    <tr>\n",
              "      <th>5</th>\n",
              "      <td>ROBOT0002</td>\n",
              "      <td>y_pos</td>\n",
              "      <td>0.233431</td>\n",
              "    </tr>\n",
              "    <tr>\n",
              "      <th>6</th>\n",
              "      <td>ROBOT0003</td>\n",
              "      <td>y_pos</td>\n",
              "      <td>-0.09986</td>\n",
              "    </tr>\n",
              "    <tr>\n",
              "      <th>7</th>\n",
              "      <td>ROBOT0004</td>\n",
              "      <td>y_pos</td>\n",
              "      <td>0.626837</td>\n",
              "    </tr>\n",
              "    <tr>\n",
              "      <th>8</th>\n",
              "      <td>ROBOT0001</td>\n",
              "      <td>z_pos</td>\n",
              "      <td>0.74186</td>\n",
              "    </tr>\n",
              "    <tr>\n",
              "      <th>9</th>\n",
              "      <td>ROBOT0002</td>\n",
              "      <td>z_pos</td>\n",
              "      <td>-0.186494</td>\n",
              "    </tr>\n",
              "    <tr>\n",
              "      <th>10</th>\n",
              "      <td>ROBOT0003</td>\n",
              "      <td>z_pos</td>\n",
              "      <td>0.46676</td>\n",
              "    </tr>\n",
              "    <tr>\n",
              "      <th>11</th>\n",
              "      <td>ROBOT0004</td>\n",
              "      <td>z_pos</td>\n",
              "      <td>0.046232</td>\n",
              "    </tr>\n",
              "    <tr>\n",
              "      <th>12</th>\n",
              "      <td>ROBOT0001</td>\n",
              "      <td>state</td>\n",
              "      <td>open</td>\n",
              "    </tr>\n",
              "    <tr>\n",
              "      <th>13</th>\n",
              "      <td>ROBOT0002</td>\n",
              "      <td>state</td>\n",
              "      <td>open</td>\n",
              "    </tr>\n",
              "    <tr>\n",
              "      <th>14</th>\n",
              "      <td>ROBOT0003</td>\n",
              "      <td>state</td>\n",
              "      <td>closed</td>\n",
              "    </tr>\n",
              "    <tr>\n",
              "      <th>15</th>\n",
              "      <td>ROBOT0004</td>\n",
              "      <td>state</td>\n",
              "      <td>moving</td>\n",
              "    </tr>\n",
              "  </tbody>\n",
              "</table>\n",
              "</div>"
            ],
            "text/plain": [
              "   instrument_id variable     value\n",
              "0      ROBOT0001    x_pos  0.078102\n",
              "1      ROBOT0002    x_pos  0.344303\n",
              "2      ROBOT0003    x_pos  0.164421\n",
              "3      ROBOT0004    x_pos  0.071813\n",
              "4      ROBOT0001    y_pos -0.122152\n",
              "5      ROBOT0002    y_pos  0.233431\n",
              "6      ROBOT0003    y_pos  -0.09986\n",
              "7      ROBOT0004    y_pos  0.626837\n",
              "8      ROBOT0001    z_pos   0.74186\n",
              "9      ROBOT0002    z_pos -0.186494\n",
              "10     ROBOT0003    z_pos   0.46676\n",
              "11     ROBOT0004    z_pos  0.046232\n",
              "12     ROBOT0001    state      open\n",
              "13     ROBOT0002    state      open\n",
              "14     ROBOT0003    state    closed\n",
              "15     ROBOT0004    state    moving"
            ]
          },
          "execution_count": 30,
          "metadata": {},
          "output_type": "execute_result"
        }
      ],
      "source": [
        "df_wide.melt(\n",
        "    id_vars=['instrument_id'],                      # instrument_id column used for the IDs\n",
        "    value_vars=['x_pos','y_pos','z_pos','state']    # other columns used for the values\n",
        ")"
      ]
    },
    {
      "cell_type": "markdown",
      "metadata": {
        "slideshow": {
          "slide_type": "slide"
        }
      },
      "source": [
        "### ❓ Combining, Grouping and Reshaping Quick Check\n",
        "1. What type of operation would you use to combine two data frames where both have the same columns?\n",
        "1. What is 'wide' data?\n",
        "1. What type of operation would you use to convert a long data frame to a wide one?\n",
        "1. What type of operation would you use to combine two datasets that contain different information and have a common key?"
      ]
    },
    {
      "cell_type": "markdown",
      "metadata": {
        "slideshow": {
          "slide_type": "slide"
        }
      },
      "source": [
        "## Time Series Data\n",
        "*   Time series data are data collected with with a date and/or time associated with each entry\n",
        "*   Often these time series are sampled at regular intervals; however, not necessarily\n",
        "*   Clinical observations (e.g. heart rate etc.) and robot data (e.g. pose, state, etc.) are commonly time series\n",
        "*   For example, here is a heart rate time series dataset\n",
        "*   Note the data and time in the `obs_time` column - we will call this combination a 'datetime'"
      ]
    },
    {
      "cell_type": "code",
      "execution_count": 48,
      "metadata": {},
      "outputs": [
        {
          "data": {
            "text/html": [
              "<div>\n",
              "<style scoped>\n",
              "    .dataframe tbody tr th:only-of-type {\n",
              "        vertical-align: middle;\n",
              "    }\n",
              "\n",
              "    .dataframe tbody tr th {\n",
              "        vertical-align: top;\n",
              "    }\n",
              "\n",
              "    .dataframe thead th {\n",
              "        text-align: right;\n",
              "    }\n",
              "</style>\n",
              "<table border=\"1\" class=\"dataframe\">\n",
              "  <thead>\n",
              "    <tr style=\"text-align: right;\">\n",
              "      <th></th>\n",
              "      <th>obs_time</th>\n",
              "      <th>hr</th>\n",
              "    </tr>\n",
              "  </thead>\n",
              "  <tbody>\n",
              "    <tr>\n",
              "      <th>0</th>\n",
              "      <td>2024-10-01 00:00:00</td>\n",
              "      <td>54.30</td>\n",
              "    </tr>\n",
              "    <tr>\n",
              "      <th>1</th>\n",
              "      <td>2024-10-01 04:00:00</td>\n",
              "      <td>51.67</td>\n",
              "    </tr>\n",
              "    <tr>\n",
              "      <th>2</th>\n",
              "      <td>2024-10-01 08:00:00</td>\n",
              "      <td>80.37</td>\n",
              "    </tr>\n",
              "    <tr>\n",
              "      <th>3</th>\n",
              "      <td>2024-10-01 12:00:00</td>\n",
              "      <td>87.70</td>\n",
              "    </tr>\n",
              "    <tr>\n",
              "      <th>4</th>\n",
              "      <td>2024-10-01 16:00:00</td>\n",
              "      <td>96.33</td>\n",
              "    </tr>\n",
              "    <tr>\n",
              "      <th>5</th>\n",
              "      <td>2024-10-01 20:00:00</td>\n",
              "      <td>97.63</td>\n",
              "    </tr>\n",
              "    <tr>\n",
              "      <th>6</th>\n",
              "      <td>2024-10-02 00:00:00</td>\n",
              "      <td>45.30</td>\n",
              "    </tr>\n",
              "    <tr>\n",
              "      <th>7</th>\n",
              "      <td>2024-10-02 04:00:00</td>\n",
              "      <td>43.67</td>\n",
              "    </tr>\n",
              "    <tr>\n",
              "      <th>8</th>\n",
              "      <td>2024-10-02 08:00:00</td>\n",
              "      <td>68.37</td>\n",
              "    </tr>\n",
              "    <tr>\n",
              "      <th>9</th>\n",
              "      <td>2024-10-02 12:00:00</td>\n",
              "      <td>106.70</td>\n",
              "    </tr>\n",
              "  </tbody>\n",
              "</table>\n",
              "</div>"
            ],
            "text/plain": [
              "              obs_time      hr\n",
              "0  2024-10-01 00:00:00   54.30\n",
              "1  2024-10-01 04:00:00   51.67\n",
              "2  2024-10-01 08:00:00   80.37\n",
              "3  2024-10-01 12:00:00   87.70\n",
              "4  2024-10-01 16:00:00   96.33\n",
              "5  2024-10-01 20:00:00   97.63\n",
              "6  2024-10-02 00:00:00   45.30\n",
              "7  2024-10-02 04:00:00   43.67\n",
              "8  2024-10-02 08:00:00   68.37\n",
              "9  2024-10-02 12:00:00  106.70"
            ]
          },
          "execution_count": 48,
          "metadata": {},
          "output_type": "execute_result"
        }
      ],
      "source": [
        "ts = pd.read_csv('https://teaching.bowyer.io/SDSAI/2/data/hr_timeseries.csv')\n",
        "ts.head(10)"
      ]
    },
    {
      "cell_type": "markdown",
      "metadata": {
        "slideshow": {
          "slide_type": "slide"
        }
      },
      "source": [
        "### Parsing Time Series\n",
        "*   Though the `obs_time` column contains the full datetime pandas has interpreted it as a string\n",
        "*   This means that you cannot perform any kind of mathematical analysis of the data, e.g. calculating the time between steps"
      ]
    },
    {
      "cell_type": "code",
      "execution_count": 32,
      "metadata": {},
      "outputs": [
        {
          "data": {
            "text/plain": [
              "str"
            ]
          },
          "execution_count": 32,
          "metadata": {},
          "output_type": "execute_result"
        }
      ],
      "source": [
        "type(ts.at[0,'obs_time'])"
      ]
    },
    {
      "cell_type": "markdown",
      "metadata": {},
      "source": [
        "*   The solution to this is to parse the data as a `datetime`\n",
        "*   `datetime`s represent the data as an integer which means you can compare/convert/add/subtract datetimes"
      ]
    },
    {
      "cell_type": "code",
      "execution_count": 33,
      "metadata": {},
      "outputs": [
        {
          "data": {
            "text/plain": [
              "Timedelta('0 days 04:00:00')"
            ]
          },
          "execution_count": 33,
          "metadata": {},
          "output_type": "execute_result"
        }
      ],
      "source": [
        "# Parse the datatime\n",
        "ts['obs_time'] = pd.to_datetime(ts['obs_time'])\n",
        "\n",
        "# Calculate the difference between timestep 1 and 2\n",
        "ts.at[1,'obs_time'] - ts.at[0,'obs_time']"
      ]
    },
    {
      "cell_type": "markdown",
      "metadata": {
        "slideshow": {
          "slide_type": "slide"
        }
      },
      "source": [
        "### Time Series Basic Functions\n",
        "*   As mentioned, the datetime type has many properties that make it helpful for analysing time series data\n",
        "*   As they are fundamentally integers, all of the operators covered previously can be applied"
      ]
    },
    {
      "cell_type": "code",
      "execution_count": 34,
      "metadata": {},
      "outputs": [
        {
          "data": {
            "text/plain": [
              "Timestamp('2024-10-04 20:00:00')"
            ]
          },
          "execution_count": 34,
          "metadata": {},
          "output_type": "execute_result"
        }
      ],
      "source": [
        "ts.at[1,'obs_time'] + pd.Timedelta(hours=2) # Add an amount of time\n",
        "\n",
        "ts.at[1,'obs_time'] < ts.at[1,'obs_time']   # Logical comparisons\n",
        "\n",
        "ts['obs_time'].mean()                       # Standard mathematical descriptive stats\n",
        "ts['obs_time'].min()\n",
        "ts['obs_time'].max()"
      ]
    },
    {
      "cell_type": "markdown",
      "metadata": {
        "slideshow": {
          "slide_type": "slide"
        }
      },
      "source": [
        "### The dt Attribute\n",
        "*   pandas datatime types have many properties that can be used to analyse time series data\n",
        "*   These properties are available through the `.dt` attribute of the datetime\n",
        "*   https://pandas.pydata.org/docs/user_guide/timeseries.html#timeseries-components\n",
        "*   This allows you to analyse a time series based on features such as day of the week, day of the year, week of the year etc.\n",
        "*   For example, considering the previous heart rate data, if we wanted to explore the average HR value at different times of day, we can group the data by day of the week..."
      ]
    },
    {
      "cell_type": "code",
      "execution_count": 35,
      "metadata": {},
      "outputs": [
        {
          "data": {
            "text/html": [
              "<div>\n",
              "<style scoped>\n",
              "    .dataframe tbody tr th:only-of-type {\n",
              "        vertical-align: middle;\n",
              "    }\n",
              "\n",
              "    .dataframe tbody tr th {\n",
              "        vertical-align: top;\n",
              "    }\n",
              "\n",
              "    .dataframe thead th {\n",
              "        text-align: right;\n",
              "    }\n",
              "</style>\n",
              "<table border=\"1\" class=\"dataframe\">\n",
              "  <thead>\n",
              "    <tr style=\"text-align: right;\">\n",
              "      <th></th>\n",
              "      <th>count</th>\n",
              "      <th>mean</th>\n",
              "      <th>std</th>\n",
              "      <th>min</th>\n",
              "      <th>25%</th>\n",
              "      <th>50%</th>\n",
              "      <th>75%</th>\n",
              "      <th>max</th>\n",
              "    </tr>\n",
              "    <tr>\n",
              "      <th>obs_time</th>\n",
              "      <th></th>\n",
              "      <th></th>\n",
              "      <th></th>\n",
              "      <th></th>\n",
              "      <th></th>\n",
              "      <th></th>\n",
              "      <th></th>\n",
              "      <th></th>\n",
              "    </tr>\n",
              "  </thead>\n",
              "  <tbody>\n",
              "    <tr>\n",
              "      <th>0</th>\n",
              "      <td>4.0</td>\n",
              "      <td>53.55</td>\n",
              "      <td>10.626225</td>\n",
              "      <td>45.30</td>\n",
              "      <td>46.05</td>\n",
              "      <td>50.30</td>\n",
              "      <td>57.80</td>\n",
              "      <td>68.30</td>\n",
              "    </tr>\n",
              "    <tr>\n",
              "      <th>4</th>\n",
              "      <td>4.0</td>\n",
              "      <td>48.17</td>\n",
              "      <td>9.574271</td>\n",
              "      <td>37.67</td>\n",
              "      <td>42.17</td>\n",
              "      <td>47.67</td>\n",
              "      <td>53.67</td>\n",
              "      <td>59.67</td>\n",
              "    </tr>\n",
              "    <tr>\n",
              "      <th>8</th>\n",
              "      <td>4.0</td>\n",
              "      <td>69.87</td>\n",
              "      <td>7.141428</td>\n",
              "      <td>65.37</td>\n",
              "      <td>65.37</td>\n",
              "      <td>66.87</td>\n",
              "      <td>71.37</td>\n",
              "      <td>80.37</td>\n",
              "    </tr>\n",
              "    <tr>\n",
              "      <th>12</th>\n",
              "      <td>4.0</td>\n",
              "      <td>100.20</td>\n",
              "      <td>10.969655</td>\n",
              "      <td>87.70</td>\n",
              "      <td>92.95</td>\n",
              "      <td>100.70</td>\n",
              "      <td>107.95</td>\n",
              "      <td>111.70</td>\n",
              "    </tr>\n",
              "    <tr>\n",
              "      <th>16</th>\n",
              "      <td>4.0</td>\n",
              "      <td>111.08</td>\n",
              "      <td>9.912114</td>\n",
              "      <td>96.33</td>\n",
              "      <td>109.83</td>\n",
              "      <td>115.33</td>\n",
              "      <td>116.58</td>\n",
              "      <td>117.33</td>\n",
              "    </tr>\n",
              "    <tr>\n",
              "      <th>20</th>\n",
              "      <td>4.0</td>\n",
              "      <td>88.38</td>\n",
              "      <td>6.652067</td>\n",
              "      <td>82.63</td>\n",
              "      <td>84.13</td>\n",
              "      <td>86.63</td>\n",
              "      <td>90.88</td>\n",
              "      <td>97.63</td>\n",
              "    </tr>\n",
              "  </tbody>\n",
              "</table>\n",
              "</div>"
            ],
            "text/plain": [
              "          count    mean        std    min     25%     50%     75%     max\n",
              "obs_time                                                                 \n",
              "0           4.0   53.55  10.626225  45.30   46.05   50.30   57.80   68.30\n",
              "4           4.0   48.17   9.574271  37.67   42.17   47.67   53.67   59.67\n",
              "8           4.0   69.87   7.141428  65.37   65.37   66.87   71.37   80.37\n",
              "12          4.0  100.20  10.969655  87.70   92.95  100.70  107.95  111.70\n",
              "16          4.0  111.08   9.912114  96.33  109.83  115.33  116.58  117.33\n",
              "20          4.0   88.38   6.652067  82.63   84.13   86.63   90.88   97.63"
            ]
          },
          "execution_count": 35,
          "metadata": {},
          "output_type": "execute_result"
        }
      ],
      "source": [
        "ts_grouped = ts.groupby(ts['obs_time'].dt.hour)\n",
        "ts_grouped['hr'].describe()"
      ]
    },
    {
      "cell_type": "markdown",
      "metadata": {
        "slideshow": {
          "slide_type": "slide"
        }
      },
      "source": [
        "## Processing Text Data\n",
        "*   When working with 'real' data, you will commonly find parameters of interest encoded in strings\n",
        "*   As with datetimes, being a string means you cannot apply other operators to analyse and use the data\n",
        "*   For example:"
      ]
    },
    {
      "cell_type": "code",
      "execution_count": 36,
      "metadata": {},
      "outputs": [
        {
          "data": {
            "text/html": [
              "<div>\n",
              "<style scoped>\n",
              "    .dataframe tbody tr th:only-of-type {\n",
              "        vertical-align: middle;\n",
              "    }\n",
              "\n",
              "    .dataframe tbody tr th {\n",
              "        vertical-align: top;\n",
              "    }\n",
              "\n",
              "    .dataframe thead th {\n",
              "        text-align: right;\n",
              "    }\n",
              "</style>\n",
              "<table border=\"1\" class=\"dataframe\">\n",
              "  <thead>\n",
              "    <tr style=\"text-align: right;\">\n",
              "      <th></th>\n",
              "      <th>patient_id</th>\n",
              "      <th>hr</th>\n",
              "      <th>conscious_level</th>\n",
              "      <th>bp</th>\n",
              "      <th>microbio_culture</th>\n",
              "    </tr>\n",
              "  </thead>\n",
              "  <tbody>\n",
              "    <tr>\n",
              "      <th>0</th>\n",
              "      <td>1</td>\n",
              "      <td>54.3 bpm</td>\n",
              "      <td>UNRESPONSIVE_3</td>\n",
              "      <td>96/72 mmHg</td>\n",
              "      <td>-</td>\n",
              "    </tr>\n",
              "    <tr>\n",
              "      <th>1</th>\n",
              "      <td>2</td>\n",
              "      <td>51.67 bpm</td>\n",
              "      <td>UNRESPONSIVE_3</td>\n",
              "      <td>96/70 mmHg</td>\n",
              "      <td>positive</td>\n",
              "    </tr>\n",
              "    <tr>\n",
              "      <th>2</th>\n",
              "      <td>3</td>\n",
              "      <td>80.37 bpm</td>\n",
              "      <td>VERBAL_1</td>\n",
              "      <td>95/65 mmHg</td>\n",
              "      <td>POSITIVE</td>\n",
              "    </tr>\n",
              "    <tr>\n",
              "      <th>3</th>\n",
              "      <td>4</td>\n",
              "      <td>87.7 bpm</td>\n",
              "      <td>VERBAL_1</td>\n",
              "      <td>105/64 mmHg</td>\n",
              "      <td>NEGATIVE</td>\n",
              "    </tr>\n",
              "    <tr>\n",
              "      <th>4</th>\n",
              "      <td>5</td>\n",
              "      <td>96.33 bpm</td>\n",
              "      <td>PAIN_2</td>\n",
              "      <td>109/78 mmHg</td>\n",
              "      <td>POS</td>\n",
              "    </tr>\n",
              "    <tr>\n",
              "      <th>5</th>\n",
              "      <td>6</td>\n",
              "      <td>97.63 bpm</td>\n",
              "      <td>VERBAL_1</td>\n",
              "      <td>106/73 mmHg</td>\n",
              "      <td>-</td>\n",
              "    </tr>\n",
              "    <tr>\n",
              "      <th>6</th>\n",
              "      <td>7</td>\n",
              "      <td>45.3 bpm</td>\n",
              "      <td>UNRESPONSIVE_3</td>\n",
              "      <td>108/80 mmHg</td>\n",
              "      <td>POS</td>\n",
              "    </tr>\n",
              "    <tr>\n",
              "      <th>7</th>\n",
              "      <td>8</td>\n",
              "      <td>43.67 bpm</td>\n",
              "      <td>VERBAL_1</td>\n",
              "      <td>120/67 mmHg</td>\n",
              "      <td>NEG</td>\n",
              "    </tr>\n",
              "    <tr>\n",
              "      <th>8</th>\n",
              "      <td>9</td>\n",
              "      <td>68.37 bpm</td>\n",
              "      <td>VERBAL_1</td>\n",
              "      <td>118/60 mmHg</td>\n",
              "      <td>negative</td>\n",
              "    </tr>\n",
              "    <tr>\n",
              "      <th>9</th>\n",
              "      <td>10</td>\n",
              "      <td>106.7 bpm</td>\n",
              "      <td>PAIN_2</td>\n",
              "      <td>91/73 mmHg</td>\n",
              "      <td>-</td>\n",
              "    </tr>\n",
              "  </tbody>\n",
              "</table>\n",
              "</div>"
            ],
            "text/plain": [
              "   patient_id         hr conscious_level           bp microbio_culture\n",
              "0           1   54.3 bpm  UNRESPONSIVE_3   96/72 mmHg                -\n",
              "1           2  51.67 bpm  UNRESPONSIVE_3   96/70 mmHg         positive\n",
              "2           3  80.37 bpm        VERBAL_1   95/65 mmHg         POSITIVE\n",
              "3           4   87.7 bpm        VERBAL_1  105/64 mmHg         NEGATIVE\n",
              "4           5  96.33 bpm          PAIN_2  109/78 mmHg              POS\n",
              "5           6  97.63 bpm        VERBAL_1  106/73 mmHg                -\n",
              "6           7   45.3 bpm  UNRESPONSIVE_3  108/80 mmHg              POS\n",
              "7           8  43.67 bpm        VERBAL_1  120/67 mmHg              NEG\n",
              "8           9  68.37 bpm        VERBAL_1  118/60 mmHg         negative\n",
              "9          10  106.7 bpm          PAIN_2   91/73 mmHg                -"
            ]
          },
          "execution_count": 36,
          "metadata": {},
          "output_type": "execute_result"
        }
      ],
      "source": [
        "df_str_data = pd.read_csv(\"https://teaching.bowyer.io/SDSAI/2/data/str_data.csv\")\n",
        "df_str_data.head(10)"
      ]
    },
    {
      "cell_type": "markdown",
      "metadata": {
        "slideshow": {
          "slide_type": "slide"
        }
      },
      "source": [
        "### The str Attribute\n",
        "*   Similarly to datetimes, pandas strings have many methods that can manipulate them\n",
        "*   These properties are available through the `.str` attribute of the string\n",
        "    *   https://pandas.pydata.org/docs/user_guide/text.html#method-summary\n",
        "*   Review the documentation for a full list of functions\n",
        "*   In some cases, you will want to use a more powerful method called `regex` which we will cover later\n"
      ]
    },
    {
      "cell_type": "markdown",
      "metadata": {
        "slideshow": {
          "slide_type": "slide"
        }
      },
      "source": [
        "#### Example 1 - removing units\n",
        "*   The `removesuffix()` method allows you to easily remove a common pattern at the end of each value (e.g. a unit)\n",
        "*   There is also a `removepreffix()`\n",
        "*   This example shows remove the 'bpm' from the heart rate values\n",
        "*   Note, even though these look like numbers the output is still a string\n",
        "    *   You need to cast the column as a 'float'\n",
        "*   Also, beware of white-space left behind when removing suffixes"
      ]
    },
    {
      "cell_type": "code",
      "execution_count": 37,
      "metadata": {},
      "outputs": [
        {
          "data": {
            "text/html": [
              "<div>\n",
              "<style scoped>\n",
              "    .dataframe tbody tr th:only-of-type {\n",
              "        vertical-align: middle;\n",
              "    }\n",
              "\n",
              "    .dataframe tbody tr th {\n",
              "        vertical-align: top;\n",
              "    }\n",
              "\n",
              "    .dataframe thead th {\n",
              "        text-align: right;\n",
              "    }\n",
              "</style>\n",
              "<table border=\"1\" class=\"dataframe\">\n",
              "  <thead>\n",
              "    <tr style=\"text-align: right;\">\n",
              "      <th></th>\n",
              "      <th>patient_id</th>\n",
              "      <th>hr</th>\n",
              "      <th>conscious_level</th>\n",
              "      <th>bp</th>\n",
              "      <th>microbio_culture</th>\n",
              "      <th>hr_clean</th>\n",
              "      <th>hr_numeric</th>\n",
              "    </tr>\n",
              "  </thead>\n",
              "  <tbody>\n",
              "    <tr>\n",
              "      <th>0</th>\n",
              "      <td>1</td>\n",
              "      <td>54.3 bpm</td>\n",
              "      <td>UNRESPONSIVE_3</td>\n",
              "      <td>96/72 mmHg</td>\n",
              "      <td>-</td>\n",
              "      <td>54.3</td>\n",
              "      <td>54.30</td>\n",
              "    </tr>\n",
              "    <tr>\n",
              "      <th>1</th>\n",
              "      <td>2</td>\n",
              "      <td>51.67 bpm</td>\n",
              "      <td>UNRESPONSIVE_3</td>\n",
              "      <td>96/70 mmHg</td>\n",
              "      <td>positive</td>\n",
              "      <td>51.67</td>\n",
              "      <td>51.67</td>\n",
              "    </tr>\n",
              "    <tr>\n",
              "      <th>2</th>\n",
              "      <td>3</td>\n",
              "      <td>80.37 bpm</td>\n",
              "      <td>VERBAL_1</td>\n",
              "      <td>95/65 mmHg</td>\n",
              "      <td>POSITIVE</td>\n",
              "      <td>80.37</td>\n",
              "      <td>80.37</td>\n",
              "    </tr>\n",
              "    <tr>\n",
              "      <th>3</th>\n",
              "      <td>4</td>\n",
              "      <td>87.7 bpm</td>\n",
              "      <td>VERBAL_1</td>\n",
              "      <td>105/64 mmHg</td>\n",
              "      <td>NEGATIVE</td>\n",
              "      <td>87.7</td>\n",
              "      <td>87.70</td>\n",
              "    </tr>\n",
              "    <tr>\n",
              "      <th>4</th>\n",
              "      <td>5</td>\n",
              "      <td>96.33 bpm</td>\n",
              "      <td>PAIN_2</td>\n",
              "      <td>109/78 mmHg</td>\n",
              "      <td>POS</td>\n",
              "      <td>96.33</td>\n",
              "      <td>96.33</td>\n",
              "    </tr>\n",
              "  </tbody>\n",
              "</table>\n",
              "</div>"
            ],
            "text/plain": [
              "   patient_id         hr conscious_level           bp microbio_culture  \\\n",
              "0           1   54.3 bpm  UNRESPONSIVE_3   96/72 mmHg                -   \n",
              "1           2  51.67 bpm  UNRESPONSIVE_3   96/70 mmHg         positive   \n",
              "2           3  80.37 bpm        VERBAL_1   95/65 mmHg         POSITIVE   \n",
              "3           4   87.7 bpm        VERBAL_1  105/64 mmHg         NEGATIVE   \n",
              "4           5  96.33 bpm          PAIN_2  109/78 mmHg              POS   \n",
              "\n",
              "  hr_clean  hr_numeric  \n",
              "0    54.3        54.30  \n",
              "1   51.67        51.67  \n",
              "2   80.37        80.37  \n",
              "3    87.7        87.70  \n",
              "4   96.33        96.33  "
            ]
          },
          "execution_count": 37,
          "metadata": {},
          "output_type": "execute_result"
        }
      ],
      "source": [
        "df_str_data['hr_clean'] = df_str_data['hr'].str.removesuffix('bpm')\n",
        "df_str_data['hr_numeric'] = df_str_data['hr'].str.removesuffix('bpm').astype('float')\n",
        "df_str_data.head()"
      ]
    },
    {
      "cell_type": "markdown",
      "metadata": {
        "slideshow": {
          "slide_type": "slide"
        }
      },
      "source": [
        "#### Example 2 - Removing a Changing Prefix\n",
        "*   In the `conscious_level` column you cannot easily use the `removepreffix()` method because each prefix is different\n",
        "*   A useful method is `split()` which splits a string up at a given input pattern\n",
        "*   This example shows how to split the `conscious_level` and keep the numerical part\n",
        "*   The output of `split()` is a list of the 'split-up' parts, therefore we add the final `.str[1]` to select the second part, i.e. the number\n",
        "*   Again, you need to cast the number to an integer"
      ]
    },
    {
      "cell_type": "code",
      "execution_count": 38,
      "metadata": {},
      "outputs": [
        {
          "data": {
            "text/html": [
              "<div>\n",
              "<style scoped>\n",
              "    .dataframe tbody tr th:only-of-type {\n",
              "        vertical-align: middle;\n",
              "    }\n",
              "\n",
              "    .dataframe tbody tr th {\n",
              "        vertical-align: top;\n",
              "    }\n",
              "\n",
              "    .dataframe thead th {\n",
              "        text-align: right;\n",
              "    }\n",
              "</style>\n",
              "<table border=\"1\" class=\"dataframe\">\n",
              "  <thead>\n",
              "    <tr style=\"text-align: right;\">\n",
              "      <th></th>\n",
              "      <th>patient_id</th>\n",
              "      <th>hr</th>\n",
              "      <th>conscious_level</th>\n",
              "      <th>bp</th>\n",
              "      <th>microbio_culture</th>\n",
              "      <th>hr_clean</th>\n",
              "      <th>hr_numeric</th>\n",
              "      <th>conscious_level_clean</th>\n",
              "    </tr>\n",
              "  </thead>\n",
              "  <tbody>\n",
              "    <tr>\n",
              "      <th>0</th>\n",
              "      <td>1</td>\n",
              "      <td>54.3 bpm</td>\n",
              "      <td>UNRESPONSIVE_3</td>\n",
              "      <td>96/72 mmHg</td>\n",
              "      <td>-</td>\n",
              "      <td>54.3</td>\n",
              "      <td>54.30</td>\n",
              "      <td>3</td>\n",
              "    </tr>\n",
              "    <tr>\n",
              "      <th>1</th>\n",
              "      <td>2</td>\n",
              "      <td>51.67 bpm</td>\n",
              "      <td>UNRESPONSIVE_3</td>\n",
              "      <td>96/70 mmHg</td>\n",
              "      <td>positive</td>\n",
              "      <td>51.67</td>\n",
              "      <td>51.67</td>\n",
              "      <td>3</td>\n",
              "    </tr>\n",
              "    <tr>\n",
              "      <th>2</th>\n",
              "      <td>3</td>\n",
              "      <td>80.37 bpm</td>\n",
              "      <td>VERBAL_1</td>\n",
              "      <td>95/65 mmHg</td>\n",
              "      <td>POSITIVE</td>\n",
              "      <td>80.37</td>\n",
              "      <td>80.37</td>\n",
              "      <td>1</td>\n",
              "    </tr>\n",
              "    <tr>\n",
              "      <th>3</th>\n",
              "      <td>4</td>\n",
              "      <td>87.7 bpm</td>\n",
              "      <td>VERBAL_1</td>\n",
              "      <td>105/64 mmHg</td>\n",
              "      <td>NEGATIVE</td>\n",
              "      <td>87.7</td>\n",
              "      <td>87.70</td>\n",
              "      <td>1</td>\n",
              "    </tr>\n",
              "    <tr>\n",
              "      <th>4</th>\n",
              "      <td>5</td>\n",
              "      <td>96.33 bpm</td>\n",
              "      <td>PAIN_2</td>\n",
              "      <td>109/78 mmHg</td>\n",
              "      <td>POS</td>\n",
              "      <td>96.33</td>\n",
              "      <td>96.33</td>\n",
              "      <td>2</td>\n",
              "    </tr>\n",
              "  </tbody>\n",
              "</table>\n",
              "</div>"
            ],
            "text/plain": [
              "   patient_id         hr conscious_level           bp microbio_culture  \\\n",
              "0           1   54.3 bpm  UNRESPONSIVE_3   96/72 mmHg                -   \n",
              "1           2  51.67 bpm  UNRESPONSIVE_3   96/70 mmHg         positive   \n",
              "2           3  80.37 bpm        VERBAL_1   95/65 mmHg         POSITIVE   \n",
              "3           4   87.7 bpm        VERBAL_1  105/64 mmHg         NEGATIVE   \n",
              "4           5  96.33 bpm          PAIN_2  109/78 mmHg              POS   \n",
              "\n",
              "  hr_clean  hr_numeric conscious_level_clean  \n",
              "0    54.3        54.30                     3  \n",
              "1   51.67        51.67                     3  \n",
              "2   80.37        80.37                     1  \n",
              "3    87.7        87.70                     1  \n",
              "4   96.33        96.33                     2  "
            ]
          },
          "execution_count": 38,
          "metadata": {},
          "output_type": "execute_result"
        }
      ],
      "source": [
        "df_str_data['conscious_level_clean'] = df_str_data['conscious_level'].str.split('_').str[1]\n",
        "df_str_data.head()"
      ]
    },
    {
      "cell_type": "markdown",
      "metadata": {
        "slideshow": {
          "slide_type": "slide"
        }
      },
      "source": [
        "## Chaining Pipelines\n",
        "*   You have already seen in the previous example that you can 'chain' together a sequence of pandas methods in order to build a pipeline\n",
        "*   e.g. `df_str_data['conscious_level'].str.split('_').str[1]`\n",
        "    *   Here the output of `df_str_data['conscious_level'].str` is put into `split()` which is then put into `str[1]`\n",
        "*   The benefit of this is that it can make code cleaner and minimises cluttering your namespace with intermediate data frames that you never need again\n",
        "*   You can do this with many of the operations we have covered\n",
        "*   You can use a backslash on the end of a line to allow new lines to make your pipeline clearer\n",
        "*   e.g. finding the maximum x, y and z positions for the instruments from the `wide_robot` dataset:"
      ]
    },
    {
      "cell_type": "code",
      "execution_count": 39,
      "metadata": {},
      "outputs": [
        {
          "data": {
            "text/plain": [
              "variable\n",
              "x_pos    0.344303\n",
              "y_pos    0.626837\n",
              "z_pos    0.741860\n",
              "Name: value, dtype: float64"
            ]
          },
          "execution_count": 39,
          "metadata": {},
          "output_type": "execute_result"
        }
      ],
      "source": [
        "pd.read_csv(\"https://teaching.bowyer.io/SDSAI/2/data/wide_robot.csv\") \\\n",
        "    .melt(id_vars=['instrument_id'], value_vars=['x_pos','y_pos','z_pos']) \\\n",
        "    .groupby('variable') \\\n",
        "    ['value'] \\\n",
        "    .max()"
      ]
    },
    {
      "cell_type": "markdown",
      "metadata": {
        "slideshow": {
          "slide_type": "slide"
        }
      },
      "source": [
        "# matplotlib\n",
        "*   Now you are able to manipulate your data into whatever format you want, the next step is typically creating some graph, plot, or visualisation\n",
        "*   `matplotlib` is a mature package for Python that allows you to visualise data in many ways\n",
        "    *   https://matplotlib.org/\n",
        "    *   Can create: line charts, bar plots, histograms, scatter plots, 3D plots, etc.\n",
        "    *   Plots are highly configurable (e.g. style, colour, annotations, etc.)\n",
        "    *   Can visualise thousands of data points efficiently\n",
        "    *   Supports interactive visualisations"
      ]
    },
    {
      "cell_type": "markdown",
      "metadata": {
        "slideshow": {
          "slide_type": "slide"
        }
      },
      "source": [
        "## Installation and Setup\n",
        "*   You can install matplotlib into your Colab runtime with  \n",
        "```%pip install matplotlib```\n",
        "*   Import matplotlib with  \n",
        "```import matplotlib.pyplot as plt```\n",
        "*   We typically import it as plt because we will be calling it very often"
      ]
    },
    {
      "cell_type": "code",
      "execution_count": 40,
      "metadata": {
        "tags": [
          "remove-output"
        ]
      },
      "outputs": [
        {
          "name": "stdout",
          "output_type": "stream",
          "text": [
            "Requirement already satisfied: matplotlib in /Users/stuartbowyer/ICL/SDSAI/venv/lib/python3.12/site-packages (3.9.2)\n",
            "Requirement already satisfied: contourpy>=1.0.1 in /Users/stuartbowyer/ICL/SDSAI/venv/lib/python3.12/site-packages (from matplotlib) (1.3.0)\n",
            "Requirement already satisfied: cycler>=0.10 in /Users/stuartbowyer/ICL/SDSAI/venv/lib/python3.12/site-packages (from matplotlib) (0.12.1)\n",
            "Requirement already satisfied: fonttools>=4.22.0 in /Users/stuartbowyer/ICL/SDSAI/venv/lib/python3.12/site-packages (from matplotlib) (4.53.1)\n",
            "Requirement already satisfied: kiwisolver>=1.3.1 in /Users/stuartbowyer/ICL/SDSAI/venv/lib/python3.12/site-packages (from matplotlib) (1.4.7)\n",
            "Requirement already satisfied: numpy>=1.23 in /Users/stuartbowyer/ICL/SDSAI/venv/lib/python3.12/site-packages (from matplotlib) (2.1.1)\n",
            "Requirement already satisfied: packaging>=20.0 in /Users/stuartbowyer/ICL/SDSAI/venv/lib/python3.12/site-packages (from matplotlib) (24.1)\n",
            "Requirement already satisfied: pillow>=8 in /Users/stuartbowyer/ICL/SDSAI/venv/lib/python3.12/site-packages (from matplotlib) (10.4.0)\n",
            "Requirement already satisfied: pyparsing>=2.3.1 in /Users/stuartbowyer/ICL/SDSAI/venv/lib/python3.12/site-packages (from matplotlib) (3.1.4)\n",
            "Requirement already satisfied: python-dateutil>=2.7 in /Users/stuartbowyer/ICL/SDSAI/venv/lib/python3.12/site-packages (from matplotlib) (2.9.0.post0)\n",
            "Requirement already satisfied: six>=1.5 in /Users/stuartbowyer/ICL/SDSAI/venv/lib/python3.12/site-packages (from python-dateutil>=2.7->matplotlib) (1.16.0)\n",
            "Note: you may need to restart the kernel to use updated packages.\n"
          ]
        }
      ],
      "source": [
        "%pip install matplotlib\n",
        "\n",
        "import matplotlib.pyplot as plt"
      ]
    },
    {
      "cell_type": "markdown",
      "metadata": {
        "slideshow": {
          "slide_type": "slide"
        }
      },
      "source": [
        "## Basic Plots\n",
        "*   Plots in `matplotlib` are configured in stages, before you finally call `plt.show()` to output what you have produced\n",
        "*   If you have used MATLAB, this will be familiar"
      ]
    },
    {
      "cell_type": "markdown",
      "metadata": {
        "slideshow": {
          "slide_type": "slide"
        }
      },
      "source": [
        "### Basic Sequence Plot\n",
        "*   The input values are specified in the `plot()` function\n",
        "*   Additional features such as labels (e.g. `ylabel()` can then be added)\n",
        "*   For example, you can plot a simple sequence of numbers:\n",
        "    *   Here, the x values plotted simply correspond to the index value in the sequence"
      ]
    },
    {
      "cell_type": "code",
      "execution_count": 41,
      "metadata": {
        "tags": [
          "side-by-side"
        ]
      },
      "outputs": [
        {
          "data": {
            "image/png": "[encoded data removed]",
            "text/plain": [
              "<Figure size 640x480 with 1 Axes>"
            ]
          },
          "metadata": {},
          "output_type": "display_data"
        }
      ],
      "source": [
        "y_values = [0, 1, 2, 4, 8, 16]\n",
        "plt.plot(y_values)\n",
        "plt.title('Simple Line Plot')\n",
        "plt.ylabel('Y Values')\n",
        "plt.show()"
      ]
    },
    {
      "cell_type": "markdown",
      "metadata": {
        "slideshow": {
          "slide_type": "slide"
        }
      },
      "source": [
        "### A Basic 2D plot\n",
        "*   The x values for a plot can simply be input to the `plot()` function to plot 2 dimensional points\n",
        "*   The format of each sequence can be controlled with the `color`, `linestyle`, and `marker` parameters of the `plot()` function"
      ]
    },
    {
      "cell_type": "code",
      "execution_count": 42,
      "metadata": {
        "tags": [
          "side-by-side"
        ]
      },
      "outputs": [
        {
          "data": {
            "image/png": "[encoded data removed]",
            "text/plain": [
              "<Figure size 640x480 with 1 Axes>"
            ]
          },
          "metadata": {},
          "output_type": "display_data"
        }
      ],
      "source": [
        "x_values = [2, 4, 6, 8, 10, 12]\n",
        "y_values = [0, 1, 2, 4, 8, 16]\n",
        "plt.plot(\n",
        "    x_values, y_values,\n",
        "    color='red', linestyle='--', marker='*'\n",
        ")\n",
        "plt.xlabel('X Values')\n",
        "plt.ylabel('Y Values')\n",
        "plt.show()"
      ]
    },
    {
      "cell_type": "markdown",
      "metadata": {
        "slideshow": {
          "slide_type": "slide"
        }
      },
      "source": [
        "### Multiple Series Plot\n",
        "*   To view multiple series on the same plot, you just call `plot()` with each series\n",
        "*   You can label the series with the `label` parameter\n",
        "*   Then add a legend by calling the `legend()` function"
      ]
    },
    {
      "cell_type": "code",
      "execution_count": 43,
      "metadata": {
        "tags": [
          "side-by-side"
        ]
      },
      "outputs": [
        {
          "data": {
            "image/png": "[encoded data removed]",
            "text/plain": [
              "<Figure size 640x480 with 1 Axes>"
            ]
          },
          "metadata": {},
          "output_type": "display_data"
        }
      ],
      "source": [
        "x = [1, 2, 3, 4, 5]\n",
        "y1 = [1, 4, 9, 16, 25]\n",
        "y2 = [1, 3, 6, 10, 15]\n",
        "\n",
        "# Plot both series\n",
        "plt.plot(\n",
        "    x, y1, label='Series 1',\n",
        "    color='blue', marker='o'\n",
        ")\n",
        "plt.plot(\n",
        "    x, y2, label='Series 2',\n",
        "    color='green', marker='x'\n",
        ")\n",
        "\n",
        "plt.legend()\n",
        "\n",
        "plt.show()"
      ]
    },
    {
      "cell_type": "markdown",
      "metadata": {
        "slideshow": {
          "slide_type": "slide"
        }
      },
      "source": [
        "### Subplots\n",
        "*   You can use subplots (`plt.subplot()`) to plot data side-by-side\n",
        "*   This is useful for things such as showing synchronised physiological data with different scales or multi-dimensional robot movement\n",
        "*   The subplot function takes three inputs that define the grid of subplots:\n",
        "    *   `nrows` specifies how many rows in the grid\n",
        "    *   `ncols` specifies how many columns in the grid\n",
        "    *   `index` specifies which element of the defined grid the next plot will appear on"
      ]
    },
    {
      "cell_type": "code",
      "execution_count": 44,
      "metadata": {
        "tags": [
          "side-by-side"
        ]
      },
      "outputs": [
        {
          "data": {
            "image/png": "[encoded data removed]",
            "text/plain": [
              "<Figure size 640x480 with 2 Axes>"
            ]
          },
          "metadata": {},
          "output_type": "display_data"
        }
      ],
      "source": [
        "plt.subplot(1, 2, 1)\n",
        "plt.plot(x, y1)\n",
        "plt.title('Plot 1')\n",
        "\n",
        "plt.subplot(1, 2, 2)\n",
        "plt.plot(x, y2)\n",
        "plt.title('Plot 2')\n",
        "\n",
        "plt.tight_layout()\n",
        "plt.show()"
      ]
    },
    {
      "cell_type": "markdown",
      "metadata": {
        "slideshow": {
          "slide_type": "slide"
        }
      },
      "source": [
        "### Saving Plots\n",
        "*   When you have a figure you are happy with, you will want to save it as an image file so that you can use it elsewhere\n",
        "*   The `plt.savefig()` function allows this\n",
        "*   As with saving in `pandas` you simply need to provide an output filepath\n",
        "*   For example:"
      ]
    },
    {
      "cell_type": "code",
      "execution_count": 45,
      "metadata": {
        "tags": [
          "remove-output"
        ]
      },
      "outputs": [
        {
          "data": {
            "image/png": "[encoded data removed]",
            "text/plain": [
              "<Figure size 640x480 with 1 Axes>"
            ]
          },
          "metadata": {},
          "output_type": "display_data"
        }
      ],
      "source": [
        "plt.plot(y_values)\n",
        "plt.savefig('myplot.png')"
      ]
    },
    {
      "cell_type": "markdown",
      "metadata": {
        "slideshow": {
          "slide_type": "slide"
        }
      },
      "source": [
        "## Plotting from pandas\n",
        "*   pandas and matplotlib work well together and it is straight forward to plot pandas data\n",
        "*   pandas timeseries and dataframes both have a `plot()` method that will make this easier"
      ]
    },
    {
      "cell_type": "markdown",
      "metadata": {
        "slideshow": {
          "slide_type": "slide"
        }
      },
      "source": [
        "### Plotting pandas time series\n",
        "*   For a single time series, simply calling the `plot()` method will generate a basic line plot\n",
        "*   For example, plotting the 'hr' time series"
      ]
    },
    {
      "cell_type": "code",
      "execution_count": 185,
      "metadata": {
        "tags": [
          "side-by-side"
        ]
      },
      "outputs": [
        {
          "data": {
            "image/png": "[encoded data removed]",
            "text/plain": [
              "<Figure size 640x480 with 1 Axes>"
            ]
          },
          "metadata": {},
          "output_type": "display_data"
        }
      ],
      "source": [
        "filepath = 'https://teaching.bowyer.io/SDSAI/2/data/hr_timeseries.csv'\n",
        "df_hr = pd.read_csv(filepath)\n",
        "\n",
        "ts_hr = df_hr['hr']\n",
        "\n",
        "ts_hr.plot()\n",
        "plt.show()\n"
      ]
    },
    {
      "cell_type": "markdown",
      "metadata": {
        "slideshow": {
          "slide_type": "slide"
        }
      },
      "source": [
        "### Plotting pandas data frame\n",
        "*   To plot two dimensional data from a data frame, you need to specify which column to use for the x and y\n",
        "*   For example, to plot the heart rate data:\n",
        "    *   We set `obs_time` as the x axis and `hr` as the y axis\n",
        "    *   We also set the text rotation (`rot`) to 15 degrees to make the x labels easier to read"
      ]
    },
    {
      "cell_type": "code",
      "execution_count": 67,
      "metadata": {
        "tags": [
          "side-by-side"
        ]
      },
      "outputs": [
        {
          "data": {
            "image/png": "[encoded data removed]",
            "text/plain": [
              "<Figure size 640x480 with 1 Axes>"
            ]
          },
          "metadata": {},
          "output_type": "display_data"
        }
      ],
      "source": [
        "df_hr.plot('obs_time', 'hr', rot=15)\n",
        "plt.show()"
      ]
    },
    {
      "cell_type": "markdown",
      "metadata": {},
      "source": [
        "### Other pandas Plot Options\n",
        "*   The [documentation](https://pandas.pydata.org/docs/reference/api/pandas.DataFrame.plot.html#pandas.DataFrame.plot) for pandas plot has many useful options for plotting data\n",
        "*   You should review these when trying to create a more complex or 'prettier' plot\n",
        "*   You can do things like:\n",
        "    *   generating subplots for multiple sequences of data\n",
        "    *   linking axes of subplots to align (e.g. timeseries) data\n",
        "    *   log plotting\n",
        "    *   setting labels/titles/etc.\n",
        "    *   setting colour schemes\n",
        "    *   setting plot types (e.g. line, bar, histogram, box, density, etc.)"
      ]
    },
    {
      "cell_type": "markdown",
      "metadata": {
        "slideshow": {
          "slide_type": "slide"
        }
      },
      "source": [
        "## Other Plot Type Examples\n",
        "### Bar Plot\n",
        "*   To convert a line plot to a bar plot, you simply need to specify the plot type with the `kind` parameter to be `bar`"
      ]
    },
    {
      "cell_type": "code",
      "execution_count": 158,
      "metadata": {
        "tags": [
          "side-by-side"
        ]
      },
      "outputs": [
        {
          "data": {
            "image/png": "[encoded data removed]",
            "text/plain": [
              "<Figure size 640x480 with 1 Axes>"
            ]
          },
          "metadata": {},
          "output_type": "display_data"
        }
      ],
      "source": [
        "df_hr.plot('obs_time', 'hr', kind='bar')\n",
        "plt.show()"
      ]
    },
    {
      "cell_type": "markdown",
      "metadata": {
        "slideshow": {
          "slide_type": "slide"
        }
      },
      "source": [
        "### Boxplot\n",
        "*   For boxplots (and similar plots which group data) you need to specify the column which defines each rows group\n",
        "*   In this example, we will boxplot the heart rate distribution by time of day\n",
        "*   The time of day is the group passed into the function for the `by` parameter"
      ]
    },
    {
      "cell_type": "code",
      "execution_count": 191,
      "metadata": {
        "tags": [
          "side-by-side"
        ]
      },
      "outputs": [
        {
          "data": {
            "image/png": "[encoded data removed]",
            "text/plain": [
              "<Figure size 640x480 with 1 Axes>"
            ]
          },
          "metadata": {},
          "output_type": "display_data"
        }
      ],
      "source": [
        "# This function converts datetime to time of day\n",
        "def tod(hour):\n",
        "    if hour <= 6:\n",
        "        return 'night'\n",
        "    elif hour <= 12:\n",
        "        return 'morning'\n",
        "    else:\n",
        "        return 'afternoon'\n",
        "\n",
        "# Generate a new column with the time of day\n",
        "df_hr['hour'] = pd.to_datetime(df_hr['obs_time'])\n",
        "df_hr['tod'] = df_hr['hour'].dt.hour.apply(tod)\n",
        "\n",
        "# Generate the boxplot\n",
        "df_hr.boxplot(column='hr', by='tod')\n",
        "plt.suptitle('Heart Rate by Time of Day')\n",
        "plt.show()"
      ]
    },
    {
      "cell_type": "markdown",
      "metadata": {
        "slideshow": {
          "slide_type": "slide"
        }
      },
      "source": [
        "### Histogram\n",
        "*   To demonstrate the histogram function, we will use the recovery time data introduced previously\n",
        "*   Once loaded, the `hist()` function can be called\n",
        "*   The only necessary parameter is the column to plot, in this case the `recovery_days` column\n",
        "*   You can also specify more parameters for the histogram, such as the number of bins (parameter `bins`)"
      ]
    },
    {
      "cell_type": "code",
      "execution_count": 212,
      "metadata": {
        "tags": [
          "side-by-side"
        ]
      },
      "outputs": [
        {
          "data": {
            "image/png": "[encoded data removed]",
            "text/plain": [
              "<Figure size 640x480 with 1 Axes>"
            ]
          },
          "metadata": {},
          "output_type": "display_data"
        }
      ],
      "source": [
        "df_recovery = pd.read_csv(\"https://teaching.bowyer.io/SDSAI/2/data/simple_recovery.csv\")\n",
        "df_recovery.hist('recovery_days', bins=6)\n",
        "plt.show()"
      ]
    },
    {
      "cell_type": "markdown",
      "metadata": {
        "slideshow": {
          "slide_type": "slide"
        }
      },
      "source": [
        "# Regular Expressions\n",
        "*   A 'Regular Expression' (commonly referred to as 'regex') are a way of describing patterns in strings\n",
        "*   These are very powerful and extensively used to extract elements from text data\n",
        "*   Unfortunately the syntax is not as readable as Python\n",
        "*   If extracting complex structured data from strings, you may want to use regex rather than the pandas builtin functions as it is more concise\n",
        "*   We will cover them briefly here, but if you want to use them, you will need to do further study (see the reading list)"
      ]
    },
    {
      "cell_type": "markdown",
      "metadata": {
        "slideshow": {
          "slide_type": "slide"
        }
      },
      "source": [
        "## pandas str.contains\n",
        "*   There are several pandas functions that use regex, but we will focus on `str.contains()`\n",
        "*   The purpose of this method is to find elements in a series that match a regex pattern\n",
        "*   You might also find `str.extract()` and `str.match()` useful for managing text data"
      ]
    },
    {
      "cell_type": "markdown",
      "metadata": {
        "slideshow": {
          "slide_type": "slide"
        }
      },
      "source": [
        "## Literals\n",
        "*   Literals are basic text strings that are matched exactly\n",
        "*   For example, the following example matches the literal 'POSITIVE' in the microbiology culture column of the dataset\n",
        "*   Literals are limited as you can only match one exact pattern\n",
        "*   Note how this does not match lower-case 'positive'"
      ]
    },
    {
      "cell_type": "code",
      "execution_count": 228,
      "metadata": {},
      "outputs": [
        {
          "data": {
            "text/html": [
              "<div>\n",
              "<style scoped>\n",
              "    .dataframe tbody tr th:only-of-type {\n",
              "        vertical-align: middle;\n",
              "    }\n",
              "\n",
              "    .dataframe tbody tr th {\n",
              "        vertical-align: top;\n",
              "    }\n",
              "\n",
              "    .dataframe thead th {\n",
              "        text-align: right;\n",
              "    }\n",
              "</style>\n",
              "<table border=\"1\" class=\"dataframe\">\n",
              "  <thead>\n",
              "    <tr style=\"text-align: right;\">\n",
              "      <th></th>\n",
              "      <th>microbio_culture</th>\n",
              "      <th>is_positive</th>\n",
              "    </tr>\n",
              "  </thead>\n",
              "  <tbody>\n",
              "    <tr>\n",
              "      <th>0</th>\n",
              "      <td>-</td>\n",
              "      <td>False</td>\n",
              "    </tr>\n",
              "    <tr>\n",
              "      <th>1</th>\n",
              "      <td>positive</td>\n",
              "      <td>False</td>\n",
              "    </tr>\n",
              "    <tr>\n",
              "      <th>2</th>\n",
              "      <td>POSITIVE</td>\n",
              "      <td>True</td>\n",
              "    </tr>\n",
              "    <tr>\n",
              "      <th>3</th>\n",
              "      <td>NEGATIVE</td>\n",
              "      <td>False</td>\n",
              "    </tr>\n",
              "    <tr>\n",
              "      <th>4</th>\n",
              "      <td>POS</td>\n",
              "      <td>False</td>\n",
              "    </tr>\n",
              "    <tr>\n",
              "      <th>...</th>\n",
              "      <td>...</td>\n",
              "      <td>...</td>\n",
              "    </tr>\n",
              "    <tr>\n",
              "      <th>1995</th>\n",
              "      <td>+</td>\n",
              "      <td>False</td>\n",
              "    </tr>\n",
              "    <tr>\n",
              "      <th>1996</th>\n",
              "      <td>POS</td>\n",
              "      <td>False</td>\n",
              "    </tr>\n",
              "    <tr>\n",
              "      <th>1997</th>\n",
              "      <td>NEG</td>\n",
              "      <td>False</td>\n",
              "    </tr>\n",
              "    <tr>\n",
              "      <th>1998</th>\n",
              "      <td>NEGATIVE</td>\n",
              "      <td>False</td>\n",
              "    </tr>\n",
              "    <tr>\n",
              "      <th>1999</th>\n",
              "      <td>positive</td>\n",
              "      <td>False</td>\n",
              "    </tr>\n",
              "  </tbody>\n",
              "</table>\n",
              "<p>2000 rows × 2 columns</p>\n",
              "</div>"
            ],
            "text/plain": [
              "     microbio_culture  is_positive\n",
              "0                   -        False\n",
              "1            positive        False\n",
              "2            POSITIVE         True\n",
              "3            NEGATIVE        False\n",
              "4                 POS        False\n",
              "...               ...          ...\n",
              "1995                +        False\n",
              "1996              POS        False\n",
              "1997              NEG        False\n",
              "1998         NEGATIVE        False\n",
              "1999         positive        False\n",
              "\n",
              "[2000 rows x 2 columns]"
            ]
          },
          "execution_count": 228,
          "metadata": {},
          "output_type": "execute_result"
        }
      ],
      "source": [
        "# Load the only the microbiology culture column from the dataset\n",
        "df = pd.read_csv(\"https://teaching.bowyer.io/SDSAI/2/data/str_data.csv\", usecols=['microbio_culture'])\n",
        "\n",
        "df['is_positive'] = df['microbio_culture'].str.contains('POSITIVE')\n",
        "df"
      ]
    },
    {
      "cell_type": "markdown",
      "metadata": {
        "slideshow": {
          "slide_type": "slide"
        }
      },
      "source": [
        "## Metacharacters and Quantifies\n",
        "*   Metacharacters are symbols that represent specific required patterns\n",
        "    *   `.` (dot) matches any character\n",
        "    *   `^` (caret) matches the start of a string\n",
        "    *   There are several [more](https://www.w3schools.com/python/gloss_python_regex_metacharacters.asp)\n",
        "*   Quantifiers specify the number of times a pattern should be matches\n",
        "    *   `*` (star) matches any number of occurances (i.e. 0 or more)\n",
        "    *   `+` (plus) matches one or more occurances\n",
        "    *   `{n}` matches `n` occurances\n",
        "* For example, say we wanted to match any string that starts POS (i.e. POSITIVE or POS) we could use the following:\n",
        "    *   `POS.*` which matches POS and then any number of additional characters"
      ]
    },
    {
      "cell_type": "code",
      "execution_count": 229,
      "metadata": {},
      "outputs": [
        {
          "data": {
            "text/html": [
              "<div>\n",
              "<style scoped>\n",
              "    .dataframe tbody tr th:only-of-type {\n",
              "        vertical-align: middle;\n",
              "    }\n",
              "\n",
              "    .dataframe tbody tr th {\n",
              "        vertical-align: top;\n",
              "    }\n",
              "\n",
              "    .dataframe thead th {\n",
              "        text-align: right;\n",
              "    }\n",
              "</style>\n",
              "<table border=\"1\" class=\"dataframe\">\n",
              "  <thead>\n",
              "    <tr style=\"text-align: right;\">\n",
              "      <th></th>\n",
              "      <th>microbio_culture</th>\n",
              "      <th>is_positive</th>\n",
              "    </tr>\n",
              "  </thead>\n",
              "  <tbody>\n",
              "    <tr>\n",
              "      <th>0</th>\n",
              "      <td>-</td>\n",
              "      <td>False</td>\n",
              "    </tr>\n",
              "    <tr>\n",
              "      <th>1</th>\n",
              "      <td>positive</td>\n",
              "      <td>False</td>\n",
              "    </tr>\n",
              "    <tr>\n",
              "      <th>2</th>\n",
              "      <td>POSITIVE</td>\n",
              "      <td>True</td>\n",
              "    </tr>\n",
              "    <tr>\n",
              "      <th>3</th>\n",
              "      <td>NEGATIVE</td>\n",
              "      <td>False</td>\n",
              "    </tr>\n",
              "    <tr>\n",
              "      <th>4</th>\n",
              "      <td>POS</td>\n",
              "      <td>True</td>\n",
              "    </tr>\n",
              "    <tr>\n",
              "      <th>...</th>\n",
              "      <td>...</td>\n",
              "      <td>...</td>\n",
              "    </tr>\n",
              "    <tr>\n",
              "      <th>1995</th>\n",
              "      <td>+</td>\n",
              "      <td>False</td>\n",
              "    </tr>\n",
              "    <tr>\n",
              "      <th>1996</th>\n",
              "      <td>POS</td>\n",
              "      <td>True</td>\n",
              "    </tr>\n",
              "    <tr>\n",
              "      <th>1997</th>\n",
              "      <td>NEG</td>\n",
              "      <td>False</td>\n",
              "    </tr>\n",
              "    <tr>\n",
              "      <th>1998</th>\n",
              "      <td>NEGATIVE</td>\n",
              "      <td>False</td>\n",
              "    </tr>\n",
              "    <tr>\n",
              "      <th>1999</th>\n",
              "      <td>positive</td>\n",
              "      <td>False</td>\n",
              "    </tr>\n",
              "  </tbody>\n",
              "</table>\n",
              "<p>2000 rows × 2 columns</p>\n",
              "</div>"
            ],
            "text/plain": [
              "     microbio_culture  is_positive\n",
              "0                   -        False\n",
              "1            positive        False\n",
              "2            POSITIVE         True\n",
              "3            NEGATIVE        False\n",
              "4                 POS         True\n",
              "...               ...          ...\n",
              "1995                +        False\n",
              "1996              POS         True\n",
              "1997              NEG        False\n",
              "1998         NEGATIVE        False\n",
              "1999         positive        False\n",
              "\n",
              "[2000 rows x 2 columns]"
            ]
          },
          "execution_count": 229,
          "metadata": {},
          "output_type": "execute_result"
        }
      ],
      "source": [
        "df['is_positive'] = df['microbio_culture'].str.contains('POS.*')\n",
        "df"
      ]
    },
    {
      "cell_type": "markdown",
      "metadata": {
        "slideshow": {
          "slide_type": "slide"
        }
      },
      "source": [
        "## Character Classes and Special Sequences\n",
        "*   Character Classes are groups of characters where any one can be matches, and are defined in square brackets `[]`\n",
        "    *   `[aeiou]` would match any string with a vowel\n",
        "    *   You can use inner brackets to provide groups of patterns, e.g. `[(POS)(+)]` matches `POS` or `+`\n",
        "*   Special Sequences are a backslash `\\` followed by a character that defines a specific pattern or class\n",
        "    *   `\\d` matches digits, i.e. 0-9\n",
        "    *   `\\w` matches word characters, i.e. a-Z and 0-9\n",
        "    *   For a full [list](https://www.w3schools.com/python/gloss_python_regex_sequences.asp)\n",
        "*   **Do you notice anything unexpected in the matches of the following example?**"
      ]
    },
    {
      "cell_type": "code",
      "execution_count": 230,
      "metadata": {},
      "outputs": [
        {
          "data": {
            "text/html": [
              "<div>\n",
              "<style scoped>\n",
              "    .dataframe tbody tr th:only-of-type {\n",
              "        vertical-align: middle;\n",
              "    }\n",
              "\n",
              "    .dataframe tbody tr th {\n",
              "        vertical-align: top;\n",
              "    }\n",
              "\n",
              "    .dataframe thead th {\n",
              "        text-align: right;\n",
              "    }\n",
              "</style>\n",
              "<table border=\"1\" class=\"dataframe\">\n",
              "  <thead>\n",
              "    <tr style=\"text-align: right;\">\n",
              "      <th></th>\n",
              "      <th>microbio_culture</th>\n",
              "      <th>is_positive</th>\n",
              "    </tr>\n",
              "  </thead>\n",
              "  <tbody>\n",
              "    <tr>\n",
              "      <th>0</th>\n",
              "      <td>-</td>\n",
              "      <td>False</td>\n",
              "    </tr>\n",
              "    <tr>\n",
              "      <th>1</th>\n",
              "      <td>positive</td>\n",
              "      <td>False</td>\n",
              "    </tr>\n",
              "    <tr>\n",
              "      <th>2</th>\n",
              "      <td>POSITIVE</td>\n",
              "      <td>True</td>\n",
              "    </tr>\n",
              "    <tr>\n",
              "      <th>3</th>\n",
              "      <td>NEGATIVE</td>\n",
              "      <td>False</td>\n",
              "    </tr>\n",
              "    <tr>\n",
              "      <th>4</th>\n",
              "      <td>POS</td>\n",
              "      <td>True</td>\n",
              "    </tr>\n",
              "    <tr>\n",
              "      <th>...</th>\n",
              "      <td>...</td>\n",
              "      <td>...</td>\n",
              "    </tr>\n",
              "    <tr>\n",
              "      <th>1995</th>\n",
              "      <td>+</td>\n",
              "      <td>True</td>\n",
              "    </tr>\n",
              "    <tr>\n",
              "      <th>1996</th>\n",
              "      <td>POS</td>\n",
              "      <td>True</td>\n",
              "    </tr>\n",
              "    <tr>\n",
              "      <th>1997</th>\n",
              "      <td>NEG</td>\n",
              "      <td>False</td>\n",
              "    </tr>\n",
              "    <tr>\n",
              "      <th>1998</th>\n",
              "      <td>NEGATIVE</td>\n",
              "      <td>False</td>\n",
              "    </tr>\n",
              "    <tr>\n",
              "      <th>1999</th>\n",
              "      <td>positive</td>\n",
              "      <td>False</td>\n",
              "    </tr>\n",
              "  </tbody>\n",
              "</table>\n",
              "<p>2000 rows × 2 columns</p>\n",
              "</div>"
            ],
            "text/plain": [
              "     microbio_culture  is_positive\n",
              "0                   -        False\n",
              "1            positive        False\n",
              "2            POSITIVE         True\n",
              "3            NEGATIVE        False\n",
              "4                 POS         True\n",
              "...               ...          ...\n",
              "1995                +         True\n",
              "1996              POS         True\n",
              "1997              NEG        False\n",
              "1998         NEGATIVE        False\n",
              "1999         positive        False\n",
              "\n",
              "[2000 rows x 2 columns]"
            ]
          },
          "execution_count": 230,
          "metadata": {},
          "output_type": "execute_result"
        }
      ],
      "source": [
        "df['is_positive'] = df['microbio_culture'].str.contains('[(POS)(+)]')\n",
        "df"
      ]
    },
    {
      "cell_type": "markdown",
      "metadata": {
        "slideshow": {
          "slide_type": "slide"
        }
      },
      "source": [
        "## Case Modifier\n",
        "*   You can tell regex to be case insensitive with the following 'modifier' `/i`\n",
        "*   In some versions of regex it is called with `(?i)`\n",
        "*   For example, say we now wanted to match all POS, pos, POSITIVE, positive, + we could do the following:"
      ]
    },
    {
      "cell_type": "code",
      "execution_count": 234,
      "metadata": {},
      "outputs": [
        {
          "data": {
            "text/html": [
              "<div>\n",
              "<style scoped>\n",
              "    .dataframe tbody tr th:only-of-type {\n",
              "        vertical-align: middle;\n",
              "    }\n",
              "\n",
              "    .dataframe tbody tr th {\n",
              "        vertical-align: top;\n",
              "    }\n",
              "\n",
              "    .dataframe thead th {\n",
              "        text-align: right;\n",
              "    }\n",
              "</style>\n",
              "<table border=\"1\" class=\"dataframe\">\n",
              "  <thead>\n",
              "    <tr style=\"text-align: right;\">\n",
              "      <th></th>\n",
              "      <th>microbio_culture</th>\n",
              "      <th>is_positive</th>\n",
              "    </tr>\n",
              "  </thead>\n",
              "  <tbody>\n",
              "    <tr>\n",
              "      <th>0</th>\n",
              "      <td>-</td>\n",
              "      <td>False</td>\n",
              "    </tr>\n",
              "    <tr>\n",
              "      <th>1</th>\n",
              "      <td>positive</td>\n",
              "      <td>True</td>\n",
              "    </tr>\n",
              "    <tr>\n",
              "      <th>2</th>\n",
              "      <td>POSITIVE</td>\n",
              "      <td>True</td>\n",
              "    </tr>\n",
              "    <tr>\n",
              "      <th>3</th>\n",
              "      <td>NEGATIVE</td>\n",
              "      <td>False</td>\n",
              "    </tr>\n",
              "    <tr>\n",
              "      <th>4</th>\n",
              "      <td>POS</td>\n",
              "      <td>True</td>\n",
              "    </tr>\n",
              "    <tr>\n",
              "      <th>...</th>\n",
              "      <td>...</td>\n",
              "      <td>...</td>\n",
              "    </tr>\n",
              "    <tr>\n",
              "      <th>1995</th>\n",
              "      <td>+</td>\n",
              "      <td>True</td>\n",
              "    </tr>\n",
              "    <tr>\n",
              "      <th>1996</th>\n",
              "      <td>POS</td>\n",
              "      <td>True</td>\n",
              "    </tr>\n",
              "    <tr>\n",
              "      <th>1997</th>\n",
              "      <td>NEG</td>\n",
              "      <td>False</td>\n",
              "    </tr>\n",
              "    <tr>\n",
              "      <th>1998</th>\n",
              "      <td>NEGATIVE</td>\n",
              "      <td>False</td>\n",
              "    </tr>\n",
              "    <tr>\n",
              "      <th>1999</th>\n",
              "      <td>positive</td>\n",
              "      <td>True</td>\n",
              "    </tr>\n",
              "  </tbody>\n",
              "</table>\n",
              "<p>2000 rows × 2 columns</p>\n",
              "</div>"
            ],
            "text/plain": [
              "     microbio_culture  is_positive\n",
              "0                   -        False\n",
              "1            positive         True\n",
              "2            POSITIVE         True\n",
              "3            NEGATIVE        False\n",
              "4                 POS         True\n",
              "...               ...          ...\n",
              "1995                +         True\n",
              "1996              POS         True\n",
              "1997              NEG        False\n",
              "1998         NEGATIVE        False\n",
              "1999         positive         True\n",
              "\n",
              "[2000 rows x 2 columns]"
            ]
          },
          "execution_count": 234,
          "metadata": {},
          "output_type": "execute_result"
        }
      ],
      "source": [
        "df['is_positive'] = df['microbio_culture'].str.contains('[(?iPOS)(+)]')\n",
        "df"
      ]
    },
    {
      "cell_type": "markdown",
      "metadata": {
        "slideshow": {
          "slide_type": "slide"
        }
      },
      "source": [
        "# Wrap Up\n",
        "*   This lecture does not cover every function/concept you will need for later tasks or your project, you will need to use documentation and online resources to grow your skills\n",
        "*   There is usually several ways to achieve the same output\n",
        "    *   For now, prioritise: readability > performance > cleverness\n",
        "*   pandas and matplotlib are not the only libraries for these functions\n",
        "    *   `seaborn` is build ontop of matplotlib but provides a higher level interface for making plots\n",
        "    *   `plotly` allows feature-full interactive visualisations that can be embedded in web documents"
      ]
    },
    {
      "cell_type": "markdown",
      "metadata": {
        "slideshow": {
          "slide_type": "slide"
        }
      },
      "source": [
        "## Choosing Visualisation Types\n",
        "*   Visualisations influence interpretation, so you need to try to avoid bias and encourage clear, honest, evidence-based understanding\n",
        "*   Always consider context, audience and purpose before picking a visualisation format\n",
        "*   Pretty plots are not necessarily informative plots\n",
        "    *   Research has shown that 3D plots, pie charts (and presumably other radial plots) are not effective at communicating data\n",
        "    *   For example:"
      ]
    },
    {
      "cell_type": "code",
      "execution_count": 140,
      "metadata": {
        "tags": [
          "remove-input"
        ]
      },
      "outputs": [
        {
          "data": {
            "image/png": "[encoded data removed]",
            "text/plain": [
              "<Figure size 1000x700 with 3 Axes>"
            ]
          },
          "metadata": {},
          "output_type": "display_data"
        }
      ],
      "source": [
        "# This is just quick code to generate example plots. Don't worry about this\n",
        "import numpy as np\n",
        "np.random.seed(1)\n",
        "n = 10\n",
        "vals = np.random.uniform(1, 10, n)\n",
        "idx = range(1,n+1)\n",
        "labs = list(map(chr, range(97, 97+n)))\n",
        "\n",
        "fig = plt.figure(figsize=(10, 6))\n",
        "\n",
        "# Plot 1 (3D)\n",
        "ax = fig.add_subplot(131, projection='3d')\n",
        "ax.bar3d(idx, 0, 0, 0.8, 0.8, vals, color='skyblue', edgecolor='black')\n",
        "ax.set_aspect('equal', adjustable='box')\n",
        "ax.set_title('3D chart')\n",
        "ax.get_yaxis().set_ticks([])\n",
        "\n",
        "# Plot 2 (pie)\n",
        "ax = fig.add_subplot(132)\n",
        "ax.pie(vals, labels=labs)\n",
        "ax.set_title('Pie Chart')\n",
        "\n",
        "# Plot 3 (bar)\n",
        "ax = fig.add_subplot(133)\n",
        "ax.bar(labs, vals)\n",
        "ax.grid()\n",
        "ax.set_aspect(1.4)\n",
        "ax.set_title('Bar Chart')\n",
        "\n",
        "plt.show()\n"
      ]
    },
    {
      "cell_type": "markdown",
      "metadata": {
        "slideshow": {
          "slide_type": "slide"
        }
      },
      "source": [
        "## Before Next Session\n",
        "*   Review all these methods\n",
        "*   Complete tutorial exercises\n",
        "*   The [Leganto reading list](https://imperial.alma.exlibrisgroup.com/leganto/public/44IMP_INST/lists/45286392440001591?auth=SAML&section=45286392470001591) has:\n",
        "    *   Further tutorials to review/extend the above material\n",
        "    *   Resources on some important elements of data visualisation\n",
        "    *   Tutorials on `numpy` another library for manipulating numerical data"
      ]
    },
    {
      "cell_type": "markdown",
      "metadata": {
        "slideshow": {
          "slide_type": "slide"
        }
      },
      "source": [
        "# Tutorial Questions\n",
        "## ❓ Exercise 2.1 - Identifying Elevated CRP Values (Again)\n",
        "For this exercise, you need to repeat the CRP analysis you did in the previous tutorial, but now you can use the pandas functionality you have learnt. \n",
        "\n",
        "You have been given the (fake) data of five patients' C-Reactive Protein (CRP) tests. Write a function that computes and returns how many tests any selected patient-of-interest has had where their CRP values were elevated.\n",
        "\n",
        "Each patient has multiple CRP values recorded in the dataset and all of the values are mixed together, randomly. To identify which value associates with which patient, you have also been given an aligned list of patient names.\n",
        "\n",
        "*For example*:\n",
        "> The first four entries of the test value list, `crp`, looks like this:  \n",
        "> `crp = ['0.0 mg/L', '0.1301 mg/L', '1.4855 mg/L', '0.6009 mg/L', ...`\n",
        ">\n",
        "> And the first four entries of the patients list, `patients` looks like this:  \n",
        "> `patients = ['Liam', 'Emma', 'Oliver', 'Oliver', ...`\n",
        ">\n",
        "> This means that the first value `0.0` was from `Liam`, the second value `0.1301` was from `Emma`, the third value `1.4855` was from `Oliver` as was the fourth value `0.6009`.\n",
        "\n",
        "For this purpose, we will define an elevated CRP value as being more than 1.0 mg/L higher than the mean of all CRP tests that the specific patient has ever had."
      ]
    },
    {
      "cell_type": "markdown",
      "metadata": {
        "slideshow": {
          "slide_type": "slide"
        }
      },
      "source": [
        "### Hints\n",
        "*   The data is here: `https://teaching.bowyer.io/SDSAI/1/data/dummy_crp_data.csv`\n",
        "*   The suggested steps are:\n",
        "    *   Load the data into a dataframe\n",
        "    *   Clean the data so you can apply mathematical operators\n",
        "    *   Write a function to compute which CRP values are elevated for an input series of values from a single patient\n",
        "    *   The `groupby` and `apply` dataframe methods will help you complete the final step\n",
        "*   Note, when you `apply` a function to a grouped dataframe, the grouping is lost. So, you might want to re-`groupby` your data 😉\n",
        "*   You can achieve this using only 5 (or fewer) lines of code"
      ]
    },
    {
      "cell_type": "markdown",
      "metadata": {
        "slideshow": {
          "slide_type": "slide"
        }
      },
      "source": [
        "## ❓ Exercise 2.2 - Pulse Pressure Analysis\n",
        "In this lecture, we looked at some string data that represent physiological measurements.\n",
        "\n",
        "For this exercise, you need to compute the mean, median and standard deviation for the pulse pressure values stored within the `str_data.csv` file as well as plotting the distribution of values in whichever way you think is most appropriate.\n",
        "\n",
        "Hints:\n",
        "*   The data are here: `https://teaching.bowyer.io/SDSAI/2/data/str_data.csv`\n",
        "*   The blood pressure data are in the `bp` column\n",
        "*   Both systolic and diastolic values are stored in the same column, so you will need to think about string manipulation to parse the numerical values out\n",
        "*   We define pulse pressure as the difference between the systolic and diastolic blood pressure values\n",
        "*   For the plot, we are interested in seeing the distribution of pulse pressure values across the whole population, i.e., which values are more/less common"
      ]
    },
    {
      "cell_type": "markdown",
      "metadata": {
        "slideshow": {
          "slide_type": "slide"
        }
      },
      "source": [
        "## ❓ Exercise 2.3 - Visualising Demographics Data\n",
        "Previously in this lecture we joined demographics and recovery time datasets together so that we could identify associations between them, i.e., does one gender typically have longer recovery times.\n",
        "\n",
        "For this exercise, you are required to visualise the associations between age, ethnicity, gender and post-op laboratory test values with recovery time. For each of the visualisations, you should carefully think about what conclusions one can draw from them.\n",
        "\n",
        "### Part 1\n",
        "To start, produce appropriate visualisations (plots) for each of the following, to demonstrate any associations:\n",
        "*   age vs recovery time\n",
        "*   ethnicity vs recovery time\n",
        "*   gender vs recovery time\n",
        "\n",
        "### Part 2\n",
        "Having produced these visualisations, you will note that there are many ethnicity codes, and each has relatively few patients. This can limit the information you can take from a plot. In these cases, it is sometimes beneficial to aggregate groups of patients together.\n",
        "\n",
        "It is possible to group these ethnicities to a higher level and thus increase the number of people per group.\n",
        "\n",
        "Therefore, you now need to produce a visualisation of the association between grouped ethnicity and recovery time. Suggested groups [from the NHS](https://digital.nhs.uk/data-and-information/data-collections-and-data-sets/data-sets/mental-health-services-data-set/submit-data/data-quality-of-protected-characteristics-and-other-vulnerable-groups/ethnicity): `White`, `Mixed`, `Asian or Asian British`, `Black or Black British`, `Other Ethnic Groups`, `Not Stated/Known`"
      ]
    },
    {
      "cell_type": "markdown",
      "metadata": {
        "slideshow": {
          "slide_type": "slide"
        }
      },
      "source": [
        "### Part 3\n",
        "The laboratory tests dataset contains results for a range of lab tests taken after surgery, in a long format.\n",
        "\n",
        "Now, you need to produce visualisations that show the associations between each of these test types (individually) and recovery time.\n",
        "\n",
        "### Part 4\n",
        "Finally, you should be aware that an association between two observations does not necessarily illustrate causality. In these cases, confounding variables might be influencing the association.\n",
        "\n",
        "To explore confounding, you can stratify your visualisations by a suspected confounding variable. Do some self research on stratified plots and produce one of these for each of the lab test vs recovery time visualisations from part 3.\n"
      ]
    },
    {
      "cell_type": "markdown",
      "metadata": {},
      "source": [
        "### Hints\n",
        "*   The data are here:\n",
        "    *   `https://teaching.bowyer.io/SDSAI/2/data/demographics.csv`\n",
        "    *   `https://teaching.bowyer.io/SDSAI/2/data/simple_recovery.csv`\n",
        "    *   `https://teaching.bowyer.io/SDSAI/2/data/laboratory_tests.csv`\n",
        "*   These data are all fake/semi-randomly generated, so for now, please do not think too hard about the real clinical meaning of each bit\n",
        "*   We have not looked at the laboratory_test dataframe in this lecture, so you probably want to have a look at this data to understand how to use it before going too far"
      ]
    }
  ],
  "metadata": {
    "colab": {
      "include_colab_link": true,
      "provenance": [],
      "toc_visible": true
    },
    "kernelspec": {
      "display_name": "Python 3",
      "name": "python3"
    },
    "language_info": {
      "codemirror_mode": {
        "name": "ipython",
        "version": 3
      },
      "file_extension": ".py",
      "mimetype": "text/x-python",
      "name": "python",
      "nbconvert_exporter": "python",
      "pygments_lexer": "ipython3",
      "version": "3.12.6"
    },
    "title": "Programming for Data Science and AI"
  },
  "nbformat": 4,
  "nbformat_minor": 0
}
